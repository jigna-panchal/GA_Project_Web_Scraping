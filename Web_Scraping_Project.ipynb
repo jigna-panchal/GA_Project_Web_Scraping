{
 "cells": [
  {
   "cell_type": "markdown",
   "metadata": {
    "focus": false,
    "id": "69b9a648-bcc7-490d-9f9b-ea244d156bd6"
   },
   "source": [
    "# Web Scraping from Indeed.com and Predicting Salary Category\n",
    "\n",
    "### Jigna Panchal"
   ]
  },
  {
   "cell_type": "markdown",
   "metadata": {
    "focus": false,
    "id": "34681254-c802-462f-829d-8894d0772d08"
   },
   "source": [
    "### Problem Statement and Goal: \n",
    "\n",
    "This project was primarily undertaken to practice two major skills: collecting data by scraping a website and then building a binary predictor with Logistic Regression.\n",
    "\n",
    "First, I will collect salary information on data science jobs in a variety of markets from indeed.com. Then using the location, title and summary of the job, will attempt to predict the salary category (above/below mean) of the job.\n",
    "\n",
    "While this may seem like a regression problem, will instead treat as a classification problem and use Logistic Regression and/or other classifiers. This is because there is a fair amount of natural variance in job salaries, therefore, predicting a range may be useful. "
   ]
  },
  {
   "cell_type": "markdown",
   "metadata": {},
   "source": [
    "### Import Tools and Packages"
   ]
  },
  {
   "cell_type": "code",
   "execution_count": 10,
   "metadata": {
    "focus": false,
    "id": "2efefc73-064a-482d-b3b5-ddf5508cb4ec"
   },
   "outputs": [],
   "source": [
    "#Web scraping tools\n",
    "import requests\n",
    "import bs4\n",
    "from bs4 import BeautifulSoup\n",
    "\n",
    "#Packages/Libraries\n",
    "import pandas as pd\n",
    "from tqdm import tqdm_notebook as tqdm\n",
    "from pprint import pprint\n",
    "\n",
    "#Models\n",
    "from sklearn.linear_model import LogisticRegression, LogisticRegressionCV\n",
    "from sklearn.tree import DecisionTreeClassifier\n",
    "from sklearn.model_selection import train_test_split\n",
    "from sklearn.preprocessing import StandardScaler\n",
    "\n",
    "#Metrics\n",
    "from sklearn.metrics import classification_report, confusion_matrix, accuracy_score \n",
    "from sklearn.metrics import roc_curve, roc_auc_score, average_precision_score\n",
    "from sklearn import metrics\n",
    "import matplotlib.pyplot as plt\n",
    "\n",
    "#StatsModel\n",
    "from scipy import stats\n",
    "import statsmodels.formula.api as smf\n",
    "\n",
    "plt.style.use('ggplot')\n",
    "sns.set(font_scale=1.5)\n",
    "%config InlineBackend.figure_format = 'retina'\n",
    "%matplotlib inline"
   ]
  },
  {
   "cell_type": "markdown",
   "metadata": {
    "focus": false,
    "id": "a948d79c-5527-4c0d-ab23-f5d43ce72056"
   },
   "source": [
    "### Scraping job listings from Indeed.com"
   ]
  },
  {
   "cell_type": "markdown",
   "metadata": {
    "focus": true,
    "id": "7203e0c9-e437-4802-a6ad-7dc464f94436"
   },
   "source": [
    "To scrape the listings from the site, we have to initiate a request using the requests package (as imported above) and the URL. BeautifulSoup is then used to parse through the html code. \n",
    "\n",
    "The URL to first look at is: http://www.indeed.com/jobs?q=data+scientist+%2420%2C000&l=New+York&start=10\".\n",
    "\n",
    "When reviewing the html code for the URL we notice that each job listing is underneath a `div` tag with a class name of `result`. We will BeautifulSoup to extract those. "
   ]
  },
  {
   "cell_type": "markdown",
   "metadata": {
    "focus": false,
    "id": "9732c901-ae26-4160-8376-42e22dd327df"
   },
   "source": [
    "The URL here has many query parameters:\n",
    "\n",
    "- `q` for the job search\n",
    "- This is followed by \"+20,000\" to return results with salaries (or expected salaries >$20,000)\n",
    "- `l` for a location \n",
    "- `start` for what result number to start on\n",
    "\n",
    "An example of one result more is displayed below.\n",
    "\n",
    "```\n",
    "<div class=\" row result\" data-jk=\"2480d203f7e97210\" data-tn-component=\"organicJob\" id=\"p_2480d203f7e97210\" itemscope=\"\" itemtype=\"http://schema.org/JobPosting\">\n",
    "<h2 class=\"jobtitle\" id=\"jl_2480d203f7e97210\">\n",
    "<a class=\"turnstileLink\" data-tn-element=\"jobTitle\" onmousedown=\"return rclk(this,jobmap[0],1);\" rel=\"nofollow\" target=\"_blank\" title=\"AVP/Quantitative Analyst\">AVP/Quantitative Analyst</a>\n",
    "</h2>\n",
    "<span class=\"company\" itemprop=\"hiringOrganization\" itemtype=\"http://schema.org/Organization\">\n",
    "<span itemprop=\"name\">\n",
    "<a href=\"/cmp/Alliancebernstein?from=SERP&amp;campaignid=serp-linkcompanyname&amp;fromjk=2480d203f7e97210&amp;jcid=b374f2a780e04789\" target=\"_blank\">\n",
    "    AllianceBernstein</a></span>\n",
    "</span>\n",
    "<tr>\n",
    "<td class=\"snip\">\n",
    "<nobr>$117,500 - $127,500 a year</nobr>\n",
    "<div>\n",
    "<span class=\"summary\" itemprop=\"description\">\n",
    "C onduct quantitative and statistical research as well as portfolio management for various investment portfolios. Collaborate with Quantitative Analysts and</span>\n",
    "</div>\n",
    "</div>\n",
    "</td>\n",
    "</tr>\n",
    "</table>\n",
    "</div>\n",
    "```\n",
    "\n",
    "While this has some more verbose elements removed, we can see that there is some structure to the above:\n",
    "- The salary is available in a `nobr` element inside of a `td` element with `class='snip'`.\n",
    "- The title of a job is in a link with class set to `jobtitle` and a `data-tn-element='jobTitle'`.  \n",
    "- The location is set in a `span` with `class='location'`. \n",
    "- The company is set in a `span` with `class='company'`. "
   ]
  },
  {
   "cell_type": "markdown",
   "metadata": {
    "focus": false,
    "id": "f1eddb90-4ba8-483c-a229-77e93aa53119"
   },
   "source": [
    "### Writing functions to extract: location, company, job title, and salary."
   ]
  },
  {
   "cell_type": "code",
   "execution_count": 10,
   "metadata": {
    "focus": false,
    "id": "a1af53c9-9090-494f-b82e-cadb60a54909"
   },
   "outputs": [],
   "source": [
    "#The location is set in a span with class='location'\n",
    "def extract_location_from_result(result):\n",
    "    job_list = []\n",
    "    for job in result.find_all('span', attrs={'class':'location'}):\n",
    "        try:\n",
    "            job_list.append(job.string)\n",
    "        except:\n",
    "            job_list.append('NaN')\n",
    "    return pd.Series(job_list)\n",
    "    \n",
    "#The company is set in a span with class='company'\n",
    "def extract_company_from_result(result):\n",
    "    co_list = []\n",
    "    for co in result.find_all('span', attrs={'class':'company'}):\n",
    "        try:\n",
    "            co_list.append(co.string.replace('\\n', '').replace(' ',''))\n",
    "        except:\n",
    "            co_list.append('NaN')\n",
    "    return pd.Series(co_list)\n",
    "\n",
    "#The title of a job is in a link with class set to jobtitle and a data-tn-element='jobTitle'\n",
    "def extract_job_from_result(result):\n",
    "    title_list = []\n",
    "    for job in result.find_all('a', attrs={'data-tn-element':'jobTitle'}):\n",
    "        try:\n",
    "            title_list.append(job['title'])\n",
    "        except: \n",
    "            title_list.append('NaN')\n",
    "    return pd.Series(title_list)\n",
    "\n",
    "#The salary is available in a nobr element inside of a td element with class='snip'.\n",
    "def extract_salary_from_result(result):\n",
    "    sal_list = []\n",
    "    for td in result.find_all('td', attrs={'class':'snip'}):\n",
    "        try:\n",
    "            sal_list.append(td.find('span', attrs={'class':'no-wrap'}).string.replace('\\n', '').replace(' ',''))\n",
    "        except: \n",
    "            sal_list.append('NaN') \n",
    "    return pd.Series(sal_list)\n"
   ]
  },
  {
   "cell_type": "markdown",
   "metadata": {
    "focus": false,
    "id": "34070e89-9521-4b45-90c8-57a6599aac68"
   },
   "source": [
    "### Big Scrape\n",
    "After testing out the functions above, we will scale up our scraping to accumulate more results using the following URL: \n",
    "\n",
    "- \"http://www.indeed.com/jobs?q=data+scientist+%2420%2C000&l=New+York&start=10\"\n",
    "\n",
    "In order to collect more results, we will need to alter two query parameters, the `l=New+York` and the `start=10`. The first controls the location of the results (so we can try a different city). The second controls where in the results to start and gives 10 results (thus, we can keep incrementing by 10 to go further in the list).\n",
    "\n",
    "In addition, using the functions from above we will parse out the 4 fields - location, title, company and salary, plus city searched. Finally, create a dataframe from the results with those 5 columns."
   ]
  },
  {
   "cell_type": "code",
   "execution_count": 17,
   "metadata": {
    "focus": false,
    "id": "04b0f9af-540e-402f-8292-81748707c676"
   },
   "outputs": [
    {
     "data": {
      "application/vnd.jupyter.widget-view+json": {
       "model_id": "f191a095d49548a5871a30ea45c5077a",
       "version_major": 2,
       "version_minor": 0
      },
      "text/plain": [
       "HBox(children=(IntProgress(value=0, max=50), HTML(value='')))"
      ]
     },
     "metadata": {},
     "output_type": "display_data"
    },
    {
     "name": "stdout",
     "output_type": "stream",
     "text": [
      "\n"
     ]
    },
    {
     "data": {
      "application/vnd.jupyter.widget-view+json": {
       "model_id": "6bce956f4495499da293b6a7dc170c11",
       "version_major": 2,
       "version_minor": 0
      },
      "text/plain": [
       "HBox(children=(IntProgress(value=0, max=50), HTML(value='')))"
      ]
     },
     "metadata": {},
     "output_type": "display_data"
    },
    {
     "name": "stdout",
     "output_type": "stream",
     "text": [
      "\n"
     ]
    },
    {
     "data": {
      "application/vnd.jupyter.widget-view+json": {
       "model_id": "8a81515e18004f92ae6356d7eba6ea4b",
       "version_major": 2,
       "version_minor": 0
      },
      "text/plain": [
       "HBox(children=(IntProgress(value=0, max=50), HTML(value='')))"
      ]
     },
     "metadata": {},
     "output_type": "display_data"
    },
    {
     "name": "stdout",
     "output_type": "stream",
     "text": [
      "\n"
     ]
    },
    {
     "data": {
      "application/vnd.jupyter.widget-view+json": {
       "model_id": "ab0aa28921cb43558b90c96e8c7af9f7",
       "version_major": 2,
       "version_minor": 0
      },
      "text/plain": [
       "HBox(children=(IntProgress(value=0, max=50), HTML(value='')))"
      ]
     },
     "metadata": {},
     "output_type": "display_data"
    },
    {
     "name": "stdout",
     "output_type": "stream",
     "text": [
      "\n"
     ]
    },
    {
     "data": {
      "application/vnd.jupyter.widget-view+json": {
       "model_id": "cb17aa1bf8c249869c15067ccdd117a0",
       "version_major": 2,
       "version_minor": 0
      },
      "text/plain": [
       "HBox(children=(IntProgress(value=0, max=50), HTML(value='')))"
      ]
     },
     "metadata": {},
     "output_type": "display_data"
    },
    {
     "name": "stdout",
     "output_type": "stream",
     "text": [
      "\n"
     ]
    },
    {
     "data": {
      "application/vnd.jupyter.widget-view+json": {
       "model_id": "092a783f2da946238702caf0b1449132",
       "version_major": 2,
       "version_minor": 0
      },
      "text/plain": [
       "HBox(children=(IntProgress(value=0, max=50), HTML(value='')))"
      ]
     },
     "metadata": {},
     "output_type": "display_data"
    },
    {
     "name": "stdout",
     "output_type": "stream",
     "text": [
      "\n"
     ]
    },
    {
     "data": {
      "application/vnd.jupyter.widget-view+json": {
       "model_id": "453ad3708364496d9ee66eff3a775b76",
       "version_major": 2,
       "version_minor": 0
      },
      "text/plain": [
       "HBox(children=(IntProgress(value=0, max=50), HTML(value='')))"
      ]
     },
     "metadata": {},
     "output_type": "display_data"
    },
    {
     "name": "stdout",
     "output_type": "stream",
     "text": [
      "\n"
     ]
    },
    {
     "data": {
      "application/vnd.jupyter.widget-view+json": {
       "model_id": "b3b28d1b14404a7ebc7c9dd8c037cb94",
       "version_major": 2,
       "version_minor": 0
      },
      "text/plain": [
       "HBox(children=(IntProgress(value=0, max=50), HTML(value='')))"
      ]
     },
     "metadata": {},
     "output_type": "display_data"
    },
    {
     "name": "stdout",
     "output_type": "stream",
     "text": [
      "\n"
     ]
    },
    {
     "data": {
      "application/vnd.jupyter.widget-view+json": {
       "model_id": "552cf58c78254ffc950dabed6bd68429",
       "version_major": 2,
       "version_minor": 0
      },
      "text/plain": [
       "HBox(children=(IntProgress(value=0, max=50), HTML(value='')))"
      ]
     },
     "metadata": {},
     "output_type": "display_data"
    },
    {
     "name": "stdout",
     "output_type": "stream",
     "text": [
      "\n"
     ]
    },
    {
     "data": {
      "application/vnd.jupyter.widget-view+json": {
       "model_id": "085910ec1b9e4c5c937c87cfe19ded38",
       "version_major": 2,
       "version_minor": 0
      },
      "text/plain": [
       "HBox(children=(IntProgress(value=0, max=50), HTML(value='')))"
      ]
     },
     "metadata": {},
     "output_type": "display_data"
    },
    {
     "name": "stdout",
     "output_type": "stream",
     "text": [
      "\n"
     ]
    },
    {
     "data": {
      "application/vnd.jupyter.widget-view+json": {
       "model_id": "a72863fdc09f4fb4b75912421f02b368",
       "version_major": 2,
       "version_minor": 0
      },
      "text/plain": [
       "HBox(children=(IntProgress(value=0, max=50), HTML(value='')))"
      ]
     },
     "metadata": {},
     "output_type": "display_data"
    },
    {
     "name": "stdout",
     "output_type": "stream",
     "text": [
      "\n"
     ]
    },
    {
     "data": {
      "application/vnd.jupyter.widget-view+json": {
       "model_id": "4c1b025e52734948b79d38bfc166f4e2",
       "version_major": 2,
       "version_minor": 0
      },
      "text/plain": [
       "HBox(children=(IntProgress(value=0, max=50), HTML(value='')))"
      ]
     },
     "metadata": {},
     "output_type": "display_data"
    },
    {
     "name": "stdout",
     "output_type": "stream",
     "text": [
      "\n"
     ]
    },
    {
     "data": {
      "application/vnd.jupyter.widget-view+json": {
       "model_id": "176d518a4fc74819baee01e0289a61b8",
       "version_major": 2,
       "version_minor": 0
      },
      "text/plain": [
       "HBox(children=(IntProgress(value=0, max=50), HTML(value='')))"
      ]
     },
     "metadata": {},
     "output_type": "display_data"
    },
    {
     "name": "stdout",
     "output_type": "stream",
     "text": [
      "\n"
     ]
    },
    {
     "data": {
      "application/vnd.jupyter.widget-view+json": {
       "model_id": "232773b76874439fad1b043acf0d088b",
       "version_major": 2,
       "version_minor": 0
      },
      "text/plain": [
       "HBox(children=(IntProgress(value=0, max=50), HTML(value='')))"
      ]
     },
     "metadata": {},
     "output_type": "display_data"
    },
    {
     "name": "stdout",
     "output_type": "stream",
     "text": [
      "\n"
     ]
    },
    {
     "data": {
      "application/vnd.jupyter.widget-view+json": {
       "model_id": "d2d3a1b8ae1d4063b7fc14c8024dcbaf",
       "version_major": 2,
       "version_minor": 0
      },
      "text/plain": [
       "HBox(children=(IntProgress(value=0, max=50), HTML(value='')))"
      ]
     },
     "metadata": {},
     "output_type": "display_data"
    },
    {
     "name": "stdout",
     "output_type": "stream",
     "text": [
      "\n"
     ]
    },
    {
     "data": {
      "application/vnd.jupyter.widget-view+json": {
       "model_id": "af5ee877e959461895daaec0a45cf869",
       "version_major": 2,
       "version_minor": 0
      },
      "text/plain": [
       "HBox(children=(IntProgress(value=0, max=50), HTML(value='')))"
      ]
     },
     "metadata": {},
     "output_type": "display_data"
    },
    {
     "name": "stdout",
     "output_type": "stream",
     "text": [
      "\n"
     ]
    }
   ],
   "source": [
    "url_template = \"http://www.indeed.com/jobs?q=data+scientist+%2420%2C000&l={}&start={}\"\n",
    "max_results_per_city = 500 # Set this to a high-value (5000) to generate more results. \n",
    "# Crawling more results, will also take much longer. First test your code on a small number of results and then expand.\n",
    "\n",
    "results = pd.DataFrame(columns = ['City', 'Company', 'Title', 'Location', 'Salary'])\n",
    "\n",
    "salaries=[]\n",
    "title = []\n",
    "location = []\n",
    "company = [] \n",
    "place = []\n",
    "\n",
    "for city in set(['New+York', 'Chicago','San+Francisco', 'Austin', 'Seattle', \n",
    "    'Los+Angeles', 'Philadelphia', 'Atlanta', 'Dallas', 'Pittsburgh', \n",
    "    'Portland', 'Phoenix', 'Denver', 'Houston', 'Miami', 'London']):\n",
    "    for start in range(0, max_results_per_city, 10):\n",
    "        # Grab the results from the request (as above)\n",
    "        url = f\"http://www.indeed.com/jobs?q=data+scientist+%2420%2C000&l={city}&start={start}\"\n",
    "        #Setup a request using the request library\n",
    "        r = requests.get(url)\n",
    "        #Create a soup object to parse through the html\n",
    "        soup = BeautifulSoup(r.text, 'html.parser')\n",
    "        \n",
    "        # Append to the full set of results\n",
    "        company.extend(extract_company_from_result(soup))\n",
    "        title.extend(extract_job_from_result(soup))\n",
    "        location.extend(extract_location_from_result(soup))\n",
    "        salaries.extend(extract_salary_from_result(soup))\n",
    "        place.extend([str(city)]*len(extract_company_from_result(soup)))\n",
    "    # Print city name to keep track of scraping progress\n",
    "    print(f'{city} done...')\n",
    "print('ALL DONE')\n",
    "\n",
    "results['Company'] = company\n",
    "results['Title'] = title\n",
    "results['Location'] = location\n",
    "results['Salary'] = salaries\n",
    "results['City'] = place"
   ]
  },
  {
   "cell_type": "markdown",
   "metadata": {
    "focus": false,
    "id": "20339c09-5032-4e27-91be-286e9b46cd13"
   },
   "source": [
    "### Review the Dataframe"
   ]
  },
  {
   "cell_type": "code",
   "execution_count": 94,
   "metadata": {
    "focus": false,
    "id": "6e259594-1c52-436b-ab9e-527e071941c1",
    "scrolled": true
   },
   "outputs": [
    {
     "data": {
      "text/html": [
       "<div>\n",
       "<style scoped>\n",
       "    .dataframe tbody tr th:only-of-type {\n",
       "        vertical-align: middle;\n",
       "    }\n",
       "\n",
       "    .dataframe tbody tr th {\n",
       "        vertical-align: top;\n",
       "    }\n",
       "\n",
       "    .dataframe thead th {\n",
       "        text-align: right;\n",
       "    }\n",
       "</style>\n",
       "<table border=\"1\" class=\"dataframe\">\n",
       "  <thead>\n",
       "    <tr style=\"text-align: right;\">\n",
       "      <th></th>\n",
       "      <th>City</th>\n",
       "      <th>Company</th>\n",
       "      <th>Title</th>\n",
       "      <th>Location</th>\n",
       "      <th>Salary</th>\n",
       "    </tr>\n",
       "  </thead>\n",
       "  <tbody>\n",
       "    <tr>\n",
       "      <th>0</th>\n",
       "      <td>Los+Angeles</td>\n",
       "      <td>NaN</td>\n",
       "      <td>Data Scientist</td>\n",
       "      <td>Pasadena, CA</td>\n",
       "      <td>NaN</td>\n",
       "    </tr>\n",
       "    <tr>\n",
       "      <th>1</th>\n",
       "      <td>Los+Angeles</td>\n",
       "      <td>NaN</td>\n",
       "      <td>Data Scientist I</td>\n",
       "      <td>Hollywood, CA 90028</td>\n",
       "      <td>NaN</td>\n",
       "    </tr>\n",
       "    <tr>\n",
       "      <th>2</th>\n",
       "      <td>Los+Angeles</td>\n",
       "      <td>NaN</td>\n",
       "      <td>Digital Strategy Data Scientist</td>\n",
       "      <td>Burbank, CA</td>\n",
       "      <td>NaN</td>\n",
       "    </tr>\n",
       "    <tr>\n",
       "      <th>3</th>\n",
       "      <td>Los+Angeles</td>\n",
       "      <td>NaN</td>\n",
       "      <td>Data Scientist</td>\n",
       "      <td>Woodland Hills, CA</td>\n",
       "      <td>NaN</td>\n",
       "    </tr>\n",
       "    <tr>\n",
       "      <th>4</th>\n",
       "      <td>Los+Angeles</td>\n",
       "      <td>InternetBrands</td>\n",
       "      <td>Data Scientist Intern</td>\n",
       "      <td>Los Angeles, CA</td>\n",
       "      <td>NaN</td>\n",
       "    </tr>\n",
       "  </tbody>\n",
       "</table>\n",
       "</div>"
      ],
      "text/plain": [
       "          City         Company                            Title  \\\n",
       "0  Los+Angeles             NaN                   Data Scientist   \n",
       "1  Los+Angeles             NaN                 Data Scientist I   \n",
       "2  Los+Angeles             NaN  Digital Strategy Data Scientist   \n",
       "3  Los+Angeles             NaN                   Data Scientist   \n",
       "4  Los+Angeles  InternetBrands            Data Scientist Intern   \n",
       "\n",
       "              Location Salary  \n",
       "0         Pasadena, CA    NaN  \n",
       "1  Hollywood, CA 90028    NaN  \n",
       "2          Burbank, CA    NaN  \n",
       "3   Woodland Hills, CA    NaN  \n",
       "4      Los Angeles, CA    NaN  "
      ]
     },
     "execution_count": 94,
     "metadata": {},
     "output_type": "execute_result"
    }
   ],
   "source": [
    "results.head()"
   ]
  },
  {
   "cell_type": "markdown",
   "metadata": {
    "focus": false,
    "id": "ff98ce64-78a7-441f-a675-63464e32c834"
   },
   "source": [
    "Lastly, we need to clean up salary data. \n",
    "\n",
    "1. Only a small number of the scraped results have salary information - only these will be used for modeling.\n",
    "1. Some of the salaries are not yearly but hourly or weekly, these will not be useful to us for now.\n",
    "1. Some of the entries may be duplicated.\n",
    "1. The salaries are given as text and usually with ranges."
   ]
  },
  {
   "cell_type": "markdown",
   "metadata": {
    "focus": false,
    "id": "ff98ce64-78a7-441f-a675-63464e32c834"
   },
   "source": [
    "#### Find the entries with annual salary entries, by filtering the entries without salaries or salaries that are not yearly (filter those that refer to hour or week). Also, remove duplicate entries."
   ]
  },
  {
   "cell_type": "code",
   "execution_count": 5,
   "metadata": {
    "focus": false,
    "id": "58533e57-f86b-494a-b841-e7b59c6229c6"
   },
   "outputs": [],
   "source": [
    "## YOUR CODE HERE\n",
    "import numpy as np"
   ]
  },
  {
   "cell_type": "code",
   "execution_count": 62,
   "metadata": {},
   "outputs": [],
   "source": [
    "results.Salary = results.Salary.map(lambda x: x if x[-4:]=='year' else np.NaN)"
   ]
  },
  {
   "cell_type": "code",
   "execution_count": 92,
   "metadata": {},
   "outputs": [],
   "source": [
    "clean_results = results[~(results.Salary.isna())]"
   ]
  },
  {
   "cell_type": "code",
   "execution_count": 100,
   "metadata": {},
   "outputs": [],
   "source": [
    "clean_results1 = clean_results.drop_duplicates()"
   ]
  },
  {
   "cell_type": "markdown",
   "metadata": {
    "focus": false,
    "id": "7d4bc860-b214-4f75-9cd0-b234830b1ec2"
   },
   "source": [
    "#### Write a function that takes a salary string and converts it to a number, averaging a salary range if necessary."
   ]
  },
  {
   "cell_type": "code",
   "execution_count": 153,
   "metadata": {
    "focus": false,
    "id": "a0f701e0-80bd-40ba-9101-4535860c0968"
   },
   "outputs": [],
   "source": [
    "## YOUR CODE HERE\n",
    "\n",
    "def new_salary(num):\n",
    "    num1 = num.replace(',', '').replace('$', '').rstrip('ayear')\n",
    "    if '-' in num1:\n",
    "        nums = num1.split('-')\n",
    "        salary = np.mean([float(n) for n in nums])\n",
    "    else:\n",
    "        salary = float(num1)\n",
    "    return salary"
   ]
  },
  {
   "cell_type": "code",
   "execution_count": 154,
   "metadata": {},
   "outputs": [],
   "source": [
    "clean_results1['Clean_Salary'] = clean_results1.Salary.map(lambda x: new_salary(x))"
   ]
  },
  {
   "cell_type": "markdown",
   "metadata": {
    "focus": false,
    "id": "43e71edd-210e-42b1-9336-70a931f048af"
   },
   "source": [
    "### Save your results as a CSV"
   ]
  },
  {
   "cell_type": "code",
   "execution_count": 158,
   "metadata": {
    "focus": false,
    "id": "783fd153-28ac-47ab-bfca-27e7c1de95b4"
   },
   "outputs": [],
   "source": [
    "## YOUR CODE HERE\n",
    "clean_results1.to_csv('indeed_results.csv')"
   ]
  },
  {
   "cell_type": "markdown",
   "metadata": {
    "focus": false,
    "id": "04563b69-f7b6-466f-9d65-fc62c9ddee6a"
   },
   "source": [
    "## QUESTION 2: Factors that distinguish job category\n",
    "\n",
    "Using the job postings you scraped for part 1 (or potentially new job postings from a second round of scraping), identify features in the data related to job postings that can distinguish job titles from each other. There are a variety of interesting ways you can frame the target variable, for example:\n",
    "- What components of a job posting distinguish data scientists from other data jobs?\n",
    "- What features are important for distinguishing junior vs. senior positions?\n",
    "- Do the requirements for titles vary significantly with industry (e.g. healthcare vs. government)?\n",
    "\n",
    "You may end up making multiple classification models to tackle different questions. Be sure to clearly explain your hypotheses and framing, any feature engineering, and what your target variables are. The type of classification model you choose is up to you. Be sure to interpret your results and evaluate your model's performance."
   ]
  },
  {
   "cell_type": "markdown",
   "metadata": {
    "focus": false,
    "id": "243e949e-2742-40af-872e-fec475fd306c"
   },
   "source": [
    "#### Load in the the data of scraped salaries"
   ]
  },
  {
   "cell_type": "code",
   "execution_count": 14,
   "metadata": {
    "focus": false,
    "id": "588f9845-6143-4bcc-bfd1-85d45b79303d"
   },
   "outputs": [
    {
     "data": {
      "text/html": [
       "<div>\n",
       "<style scoped>\n",
       "    .dataframe tbody tr th:only-of-type {\n",
       "        vertical-align: middle;\n",
       "    }\n",
       "\n",
       "    .dataframe tbody tr th {\n",
       "        vertical-align: top;\n",
       "    }\n",
       "\n",
       "    .dataframe thead th {\n",
       "        text-align: right;\n",
       "    }\n",
       "</style>\n",
       "<table border=\"1\" class=\"dataframe\">\n",
       "  <thead>\n",
       "    <tr style=\"text-align: right;\">\n",
       "      <th></th>\n",
       "      <th>Unnamed: 0</th>\n",
       "      <th>City</th>\n",
       "      <th>Company</th>\n",
       "      <th>Title</th>\n",
       "      <th>Location</th>\n",
       "      <th>Salary</th>\n",
       "      <th>Clean_Salary</th>\n",
       "    </tr>\n",
       "  </thead>\n",
       "  <tbody>\n",
       "    <tr>\n",
       "      <th>0</th>\n",
       "      <td>32</td>\n",
       "      <td>Los+Angeles</td>\n",
       "      <td>NaN</td>\n",
       "      <td>Computer Scientist</td>\n",
       "      <td>Los Angeles, CA</td>\n",
       "      <td>$108,281-$153,510ayear</td>\n",
       "      <td>130895.5</td>\n",
       "    </tr>\n",
       "    <tr>\n",
       "      <th>1</th>\n",
       "      <td>93</td>\n",
       "      <td>Los+Angeles</td>\n",
       "      <td>FluidManufacturing</td>\n",
       "      <td>Cannabis Lead Formulation Chemist (Flavoring E...</td>\n",
       "      <td>Pacific Palisades, CA 90272</td>\n",
       "      <td>$60,000-$125,000ayear</td>\n",
       "      <td>92500.0</td>\n",
       "    </tr>\n",
       "    <tr>\n",
       "      <th>2</th>\n",
       "      <td>105</td>\n",
       "      <td>Los+Angeles</td>\n",
       "      <td>Harnham</td>\n",
       "      <td>Data Scientist, Marketing - Ecommerce</td>\n",
       "      <td>Los Angeles, CA</td>\n",
       "      <td>$120,000ayear</td>\n",
       "      <td>120000.0</td>\n",
       "    </tr>\n",
       "    <tr>\n",
       "      <th>3</th>\n",
       "      <td>122</td>\n",
       "      <td>Los+Angeles</td>\n",
       "      <td>Harnham</td>\n",
       "      <td>Senior Data Scientist</td>\n",
       "      <td>Los Angeles, CA</td>\n",
       "      <td>$150,000ayear</td>\n",
       "      <td>150000.0</td>\n",
       "    </tr>\n",
       "    <tr>\n",
       "      <th>4</th>\n",
       "      <td>155</td>\n",
       "      <td>Los+Angeles</td>\n",
       "      <td>NaN</td>\n",
       "      <td>MIS Director</td>\n",
       "      <td>Los Angeles, CA</td>\n",
       "      <td>$124,239-$207,057ayear</td>\n",
       "      <td>165648.0</td>\n",
       "    </tr>\n",
       "    <tr>\n",
       "      <th>5</th>\n",
       "      <td>421</td>\n",
       "      <td>Los+Angeles</td>\n",
       "      <td>Harnham</td>\n",
       "      <td>Director, Digital Media Analytics</td>\n",
       "      <td>Los Angeles, CA</td>\n",
       "      <td>$160,000ayear</td>\n",
       "      <td>160000.0</td>\n",
       "    </tr>\n",
       "    <tr>\n",
       "      <th>6</th>\n",
       "      <td>542</td>\n",
       "      <td>Denver</td>\n",
       "      <td>NaN</td>\n",
       "      <td>Professional Research Assistant</td>\n",
       "      <td>Aurora, CO</td>\n",
       "      <td>$45,000-$75,000ayear</td>\n",
       "      <td>60000.0</td>\n",
       "    </tr>\n",
       "    <tr>\n",
       "      <th>7</th>\n",
       "      <td>566</td>\n",
       "      <td>Denver</td>\n",
       "      <td>NaN</td>\n",
       "      <td>Operations Research Analyst</td>\n",
       "      <td>Buckley AFB, CO</td>\n",
       "      <td>$72,168-$155,073ayear</td>\n",
       "      <td>113620.5</td>\n",
       "    </tr>\n",
       "    <tr>\n",
       "      <th>8</th>\n",
       "      <td>1126</td>\n",
       "      <td>San+Francisco</td>\n",
       "      <td>NaN</td>\n",
       "      <td>Data Scientist</td>\n",
       "      <td>San Francisco, CA</td>\n",
       "      <td>$130,000-$190,000ayear</td>\n",
       "      <td>160000.0</td>\n",
       "    </tr>\n",
       "    <tr>\n",
       "      <th>9</th>\n",
       "      <td>1134</td>\n",
       "      <td>San+Francisco</td>\n",
       "      <td>Harnham</td>\n",
       "      <td>Marketing Data Scientist</td>\n",
       "      <td>San Francisco, CA</td>\n",
       "      <td>$150,000ayear</td>\n",
       "      <td>150000.0</td>\n",
       "    </tr>\n",
       "    <tr>\n",
       "      <th>10</th>\n",
       "      <td>1161</td>\n",
       "      <td>San+Francisco</td>\n",
       "      <td>Harnham</td>\n",
       "      <td>Marketing Data Scientist - Contract to Hire</td>\n",
       "      <td>Oakland, CA</td>\n",
       "      <td>$120,000ayear</td>\n",
       "      <td>120000.0</td>\n",
       "    </tr>\n",
       "    <tr>\n",
       "      <th>11</th>\n",
       "      <td>1167</td>\n",
       "      <td>San+Francisco</td>\n",
       "      <td>BlueOwl</td>\n",
       "      <td>Senior Data Engineer</td>\n",
       "      <td>San Francisco, CA</td>\n",
       "      <td>$200,000-$300,000ayear</td>\n",
       "      <td>250000.0</td>\n",
       "    </tr>\n",
       "    <tr>\n",
       "      <th>12</th>\n",
       "      <td>1179</td>\n",
       "      <td>San+Francisco</td>\n",
       "      <td>Harnham</td>\n",
       "      <td>Data Scientist Lead - Remote Opportunity</td>\n",
       "      <td>San Francisco, CA</td>\n",
       "      <td>$120,000ayear</td>\n",
       "      <td>120000.0</td>\n",
       "    </tr>\n",
       "    <tr>\n",
       "      <th>13</th>\n",
       "      <td>1189</td>\n",
       "      <td>San+Francisco</td>\n",
       "      <td>Harnham</td>\n",
       "      <td>Data Scientist - Global Retailer</td>\n",
       "      <td>Oakland, CA</td>\n",
       "      <td>$120,000ayear</td>\n",
       "      <td>120000.0</td>\n",
       "    </tr>\n",
       "    <tr>\n",
       "      <th>14</th>\n",
       "      <td>1221</td>\n",
       "      <td>San+Francisco</td>\n",
       "      <td>NaN</td>\n",
       "      <td>Lead Data Scientist</td>\n",
       "      <td>San Francisco, CA</td>\n",
       "      <td>$170,000-$220,000ayear</td>\n",
       "      <td>195000.0</td>\n",
       "    </tr>\n",
       "    <tr>\n",
       "      <th>15</th>\n",
       "      <td>1234</td>\n",
       "      <td>San+Francisco</td>\n",
       "      <td>NaN</td>\n",
       "      <td>Principal, Data Scientist</td>\n",
       "      <td>San Francisco, CA</td>\n",
       "      <td>$180,000-$220,000ayear</td>\n",
       "      <td>200000.0</td>\n",
       "    </tr>\n",
       "    <tr>\n",
       "      <th>16</th>\n",
       "      <td>1262</td>\n",
       "      <td>San+Francisco</td>\n",
       "      <td>Harnham</td>\n",
       "      <td>Data Scientist - Marketing Analytics</td>\n",
       "      <td>San Francisco, CA</td>\n",
       "      <td>$150,000ayear</td>\n",
       "      <td>150000.0</td>\n",
       "    </tr>\n",
       "    <tr>\n",
       "      <th>17</th>\n",
       "      <td>1293</td>\n",
       "      <td>San+Francisco</td>\n",
       "      <td>Harnham</td>\n",
       "      <td>Senior Deep Learning Data Scientist</td>\n",
       "      <td>San Francisco, CA</td>\n",
       "      <td>$180,000ayear</td>\n",
       "      <td>180000.0</td>\n",
       "    </tr>\n",
       "    <tr>\n",
       "      <th>18</th>\n",
       "      <td>1307</td>\n",
       "      <td>San+Francisco</td>\n",
       "      <td>NaN</td>\n",
       "      <td>Senior Data Scientist</td>\n",
       "      <td>San Francisco, CA</td>\n",
       "      <td>$150,000-$190,000ayear</td>\n",
       "      <td>170000.0</td>\n",
       "    </tr>\n",
       "    <tr>\n",
       "      <th>19</th>\n",
       "      <td>1312</td>\n",
       "      <td>San+Francisco</td>\n",
       "      <td>NaN</td>\n",
       "      <td>Research Analyst 5</td>\n",
       "      <td>Berkeley, CA</td>\n",
       "      <td>$86,600-$101,800ayear</td>\n",
       "      <td>94200.0</td>\n",
       "    </tr>\n",
       "    <tr>\n",
       "      <th>20</th>\n",
       "      <td>1411</td>\n",
       "      <td>San+Francisco</td>\n",
       "      <td>NaN</td>\n",
       "      <td>Senior NLP Data Scientist (Python, NLTK, AWS, ...</td>\n",
       "      <td>San Francisco, CA</td>\n",
       "      <td>$140,000-$190,000ayear</td>\n",
       "      <td>165000.0</td>\n",
       "    </tr>\n",
       "    <tr>\n",
       "      <th>21</th>\n",
       "      <td>1521</td>\n",
       "      <td>Chicago</td>\n",
       "      <td>NaN</td>\n",
       "      <td>Data Scientist</td>\n",
       "      <td>Chicago, IL</td>\n",
       "      <td>$125,000-$130,000ayear</td>\n",
       "      <td>127500.0</td>\n",
       "    </tr>\n",
       "    <tr>\n",
       "      <th>22</th>\n",
       "      <td>1533</td>\n",
       "      <td>Chicago</td>\n",
       "      <td>NaN</td>\n",
       "      <td>Mid Level Data Scientist (Regression/Visualiza...</td>\n",
       "      <td>Chicago, IL</td>\n",
       "      <td>$95,000-$115,000ayear</td>\n",
       "      <td>105000.0</td>\n",
       "    </tr>\n",
       "    <tr>\n",
       "      <th>23</th>\n",
       "      <td>1577</td>\n",
       "      <td>Chicago</td>\n",
       "      <td>S.C.International</td>\n",
       "      <td>Data Scientist</td>\n",
       "      <td>Chicago, IL</td>\n",
       "      <td>$100,000ayear</td>\n",
       "      <td>100000.0</td>\n",
       "    </tr>\n",
       "    <tr>\n",
       "      <th>24</th>\n",
       "      <td>1592</td>\n",
       "      <td>Chicago</td>\n",
       "      <td>NaN</td>\n",
       "      <td>Mid-Level Data Scientist (Python, Pandas, NumP...</td>\n",
       "      <td>Chicago, IL</td>\n",
       "      <td>$120,000ayear</td>\n",
       "      <td>120000.0</td>\n",
       "    </tr>\n",
       "    <tr>\n",
       "      <th>25</th>\n",
       "      <td>1609</td>\n",
       "      <td>Chicago</td>\n",
       "      <td>NaN</td>\n",
       "      <td>Research Analyst - Oakton Community College</td>\n",
       "      <td>Des Plaines, IL 60016</td>\n",
       "      <td>$57,702ayear</td>\n",
       "      <td>57702.0</td>\n",
       "    </tr>\n",
       "    <tr>\n",
       "      <th>26</th>\n",
       "      <td>1739</td>\n",
       "      <td>Chicago</td>\n",
       "      <td>NaN</td>\n",
       "      <td>Data Engineer (Downtown)</td>\n",
       "      <td>Chicago, IL</td>\n",
       "      <td>$100,000-$120,000ayear</td>\n",
       "      <td>110000.0</td>\n",
       "    </tr>\n",
       "    <tr>\n",
       "      <th>27</th>\n",
       "      <td>1744</td>\n",
       "      <td>Chicago</td>\n",
       "      <td>NaN</td>\n",
       "      <td>Data Science Manager</td>\n",
       "      <td>Chicago, IL</td>\n",
       "      <td>$100,000-$150,000ayear</td>\n",
       "      <td>125000.0</td>\n",
       "    </tr>\n",
       "    <tr>\n",
       "      <th>28</th>\n",
       "      <td>1777</td>\n",
       "      <td>Chicago</td>\n",
       "      <td>NaN</td>\n",
       "      <td>Experienced Data Engineer (Health tech)</td>\n",
       "      <td>Chicago, IL</td>\n",
       "      <td>$95,000-$120,000ayear</td>\n",
       "      <td>107500.0</td>\n",
       "    </tr>\n",
       "    <tr>\n",
       "      <th>29</th>\n",
       "      <td>1791</td>\n",
       "      <td>Chicago</td>\n",
       "      <td>NaN</td>\n",
       "      <td>AVP, Salesforce Effectiveness &amp; Commercial Ins...</td>\n",
       "      <td>Chicago, IL</td>\n",
       "      <td>$70,000-$150,000ayear</td>\n",
       "      <td>110000.0</td>\n",
       "    </tr>\n",
       "    <tr>\n",
       "      <th>...</th>\n",
       "      <td>...</td>\n",
       "      <td>...</td>\n",
       "      <td>...</td>\n",
       "      <td>...</td>\n",
       "      <td>...</td>\n",
       "      <td>...</td>\n",
       "      <td>...</td>\n",
       "    </tr>\n",
       "    <tr>\n",
       "      <th>170</th>\n",
       "      <td>6834</td>\n",
       "      <td>New+York</td>\n",
       "      <td>NaN</td>\n",
       "      <td>POLICY and OPERSTIONS RESEARCH | ANALYST</td>\n",
       "      <td>Manhattan, NY</td>\n",
       "      <td>$58,162-$65,433ayear</td>\n",
       "      <td>61797.5</td>\n",
       "    </tr>\n",
       "    <tr>\n",
       "      <th>171</th>\n",
       "      <td>6843</td>\n",
       "      <td>New+York</td>\n",
       "      <td>NaN</td>\n",
       "      <td>Child Welfare Analyst</td>\n",
       "      <td>Manhattan, NY</td>\n",
       "      <td>$70,286-$83,784ayear</td>\n",
       "      <td>77035.0</td>\n",
       "    </tr>\n",
       "    <tr>\n",
       "      <th>172</th>\n",
       "      <td>6855</td>\n",
       "      <td>New+York</td>\n",
       "      <td>Harnham</td>\n",
       "      <td>Lead Data Scientist - Aerospace</td>\n",
       "      <td>New York, NY</td>\n",
       "      <td>$240,000ayear</td>\n",
       "      <td>240000.0</td>\n",
       "    </tr>\n",
       "    <tr>\n",
       "      <th>173</th>\n",
       "      <td>6874</td>\n",
       "      <td>New+York</td>\n",
       "      <td>NaN</td>\n",
       "      <td>Research Analyst-Technical</td>\n",
       "      <td>New York, NY</td>\n",
       "      <td>$48,000ayear</td>\n",
       "      <td>48000.0</td>\n",
       "    </tr>\n",
       "    <tr>\n",
       "      <th>174</th>\n",
       "      <td>6877</td>\n",
       "      <td>New+York</td>\n",
       "      <td>NaN</td>\n",
       "      <td>GIS Analyst</td>\n",
       "      <td>New York, NY</td>\n",
       "      <td>$78,630-$103,332ayear</td>\n",
       "      <td>90981.0</td>\n",
       "    </tr>\n",
       "    <tr>\n",
       "      <th>175</th>\n",
       "      <td>6879</td>\n",
       "      <td>New+York</td>\n",
       "      <td>Harnham</td>\n",
       "      <td>Lead Data Scientist, Hedge Fund</td>\n",
       "      <td>New York, NY</td>\n",
       "      <td>$180,000ayear</td>\n",
       "      <td>180000.0</td>\n",
       "    </tr>\n",
       "    <tr>\n",
       "      <th>176</th>\n",
       "      <td>6899</td>\n",
       "      <td>New+York</td>\n",
       "      <td>Harnham</td>\n",
       "      <td>Adtech Senior Data Scientist</td>\n",
       "      <td>New York, NY</td>\n",
       "      <td>$180,000ayear</td>\n",
       "      <td>180000.0</td>\n",
       "    </tr>\n",
       "    <tr>\n",
       "      <th>177</th>\n",
       "      <td>6904</td>\n",
       "      <td>New+York</td>\n",
       "      <td>NaN</td>\n",
       "      <td>Data Governance Manager, Bureau of Epidemiolog...</td>\n",
       "      <td>Queens, NY</td>\n",
       "      <td>$78,630-$90,659ayear</td>\n",
       "      <td>84644.5</td>\n",
       "    </tr>\n",
       "    <tr>\n",
       "      <th>178</th>\n",
       "      <td>6909</td>\n",
       "      <td>New+York</td>\n",
       "      <td>DEPARTMENTOFCITYPLANNING</td>\n",
       "      <td>Borough Planner</td>\n",
       "      <td>Brooklyn, NY</td>\n",
       "      <td>$59,708-$65,678ayear</td>\n",
       "      <td>62693.0</td>\n",
       "    </tr>\n",
       "    <tr>\n",
       "      <th>179</th>\n",
       "      <td>6915</td>\n",
       "      <td>New+York</td>\n",
       "      <td>NaN</td>\n",
       "      <td>Data Governance Coordinator, Bureau of HIV/AID...</td>\n",
       "      <td>Queens, NY</td>\n",
       "      <td>$70,286-$80,829ayear</td>\n",
       "      <td>75557.5</td>\n",
       "    </tr>\n",
       "    <tr>\n",
       "      <th>180</th>\n",
       "      <td>6954</td>\n",
       "      <td>New+York</td>\n",
       "      <td>NaN</td>\n",
       "      <td>Environmental Compliance Specialist</td>\n",
       "      <td>Manhattan, NY</td>\n",
       "      <td>$70,286-$88,213ayear</td>\n",
       "      <td>79249.5</td>\n",
       "    </tr>\n",
       "    <tr>\n",
       "      <th>181</th>\n",
       "      <td>6995</td>\n",
       "      <td>Pittsburgh</td>\n",
       "      <td>NaN</td>\n",
       "      <td>Laboratory Technician</td>\n",
       "      <td>Pittsburgh, PA</td>\n",
       "      <td>$20,904-$32,760ayear</td>\n",
       "      <td>26832.0</td>\n",
       "    </tr>\n",
       "    <tr>\n",
       "      <th>182</th>\n",
       "      <td>7013</td>\n",
       "      <td>Pittsburgh</td>\n",
       "      <td>NaN</td>\n",
       "      <td>Flow Cytometry Technologist</td>\n",
       "      <td>Pittsburgh, PA</td>\n",
       "      <td>$23,868-$37,752ayear</td>\n",
       "      <td>30810.0</td>\n",
       "    </tr>\n",
       "    <tr>\n",
       "      <th>183</th>\n",
       "      <td>7068</td>\n",
       "      <td>Pittsburgh</td>\n",
       "      <td>VantageSpecialtyChemicals</td>\n",
       "      <td>Food Scientist</td>\n",
       "      <td>Carnegie, PA</td>\n",
       "      <td>$85,000-$110,000ayear</td>\n",
       "      <td>97500.0</td>\n",
       "    </tr>\n",
       "    <tr>\n",
       "      <th>184</th>\n",
       "      <td>7072</td>\n",
       "      <td>Pittsburgh</td>\n",
       "      <td>NaN</td>\n",
       "      <td>Lead Analyst, Data Management Quant Analysis</td>\n",
       "      <td>NaN</td>\n",
       "      <td>$52,000ayear</td>\n",
       "      <td>52000.0</td>\n",
       "    </tr>\n",
       "    <tr>\n",
       "      <th>185</th>\n",
       "      <td>7079</td>\n",
       "      <td>Pittsburgh</td>\n",
       "      <td>SPLConsultingServices</td>\n",
       "      <td>Project Administrator</td>\n",
       "      <td>NaN</td>\n",
       "      <td>$32,000-$38,000ayear</td>\n",
       "      <td>35000.0</td>\n",
       "    </tr>\n",
       "    <tr>\n",
       "      <th>186</th>\n",
       "      <td>7455</td>\n",
       "      <td>Miami</td>\n",
       "      <td>UniversityofMiami</td>\n",
       "      <td>Assistant Scientist</td>\n",
       "      <td>Coral Gables, FL</td>\n",
       "      <td>$53,900-$60,000ayear</td>\n",
       "      <td>56950.0</td>\n",
       "    </tr>\n",
       "    <tr>\n",
       "      <th>187</th>\n",
       "      <td>7466</td>\n",
       "      <td>Miami</td>\n",
       "      <td>NaN</td>\n",
       "      <td>Research Analyst - Pediatrics</td>\n",
       "      <td>Coral Gables, FL</td>\n",
       "      <td>$32,900-$34,000ayear</td>\n",
       "      <td>33450.0</td>\n",
       "    </tr>\n",
       "    <tr>\n",
       "      <th>188</th>\n",
       "      <td>7482</td>\n",
       "      <td>Miami</td>\n",
       "      <td>NaN</td>\n",
       "      <td>Senior Research Associate 1</td>\n",
       "      <td>Coral Gables, FL</td>\n",
       "      <td>$32,900-$59,100ayear</td>\n",
       "      <td>46000.0</td>\n",
       "    </tr>\n",
       "    <tr>\n",
       "      <th>189</th>\n",
       "      <td>7485</td>\n",
       "      <td>Miami</td>\n",
       "      <td>NaN</td>\n",
       "      <td>Sr. Research Analyst</td>\n",
       "      <td>Coral Gables, FL</td>\n",
       "      <td>$40,000-$72,000ayear</td>\n",
       "      <td>56000.0</td>\n",
       "    </tr>\n",
       "    <tr>\n",
       "      <th>190</th>\n",
       "      <td>7486</td>\n",
       "      <td>Miami</td>\n",
       "      <td>NaN</td>\n",
       "      <td>Research Analyst (Bioinformatics)</td>\n",
       "      <td>Coral Gables, FL</td>\n",
       "      <td>$32,900-$46,000ayear</td>\n",
       "      <td>39450.0</td>\n",
       "    </tr>\n",
       "    <tr>\n",
       "      <th>191</th>\n",
       "      <td>7491</td>\n",
       "      <td>Miami</td>\n",
       "      <td>NaN</td>\n",
       "      <td>Grants and Contracts Analyst (Research Analyst)</td>\n",
       "      <td>Coral Gables, FL</td>\n",
       "      <td>$32,900-$50,000ayear</td>\n",
       "      <td>41450.0</td>\n",
       "    </tr>\n",
       "    <tr>\n",
       "      <th>192</th>\n",
       "      <td>7495</td>\n",
       "      <td>Miami</td>\n",
       "      <td>NaN</td>\n",
       "      <td>Oncology Research Analyst / Healthcare Adminis...</td>\n",
       "      <td>Coral Gables, FL</td>\n",
       "      <td>$38,750ayear</td>\n",
       "      <td>38750.0</td>\n",
       "    </tr>\n",
       "    <tr>\n",
       "      <th>193</th>\n",
       "      <td>7496</td>\n",
       "      <td>Miami</td>\n",
       "      <td>NaN</td>\n",
       "      <td>Sr. Manager, Research Support</td>\n",
       "      <td>Coral Gables, FL</td>\n",
       "      <td>$64,600-$80,000ayear</td>\n",
       "      <td>72300.0</td>\n",
       "    </tr>\n",
       "    <tr>\n",
       "      <th>194</th>\n",
       "      <td>7503</td>\n",
       "      <td>Miami</td>\n",
       "      <td>NaN</td>\n",
       "      <td>Sr. Clinical Systems Analyst - EPIC (Ambulator...</td>\n",
       "      <td>Coral Gables, FL</td>\n",
       "      <td>$67,500-$108,000ayear</td>\n",
       "      <td>87750.0</td>\n",
       "    </tr>\n",
       "    <tr>\n",
       "      <th>195</th>\n",
       "      <td>7523</td>\n",
       "      <td>Miami</td>\n",
       "      <td>Talento</td>\n",
       "      <td>Entry Level Data Scientist</td>\n",
       "      <td>Aventura, FL</td>\n",
       "      <td>$50,000-$70,000ayear</td>\n",
       "      <td>60000.0</td>\n",
       "    </tr>\n",
       "    <tr>\n",
       "      <th>196</th>\n",
       "      <td>7525</td>\n",
       "      <td>Miami</td>\n",
       "      <td>Peritus</td>\n",
       "      <td>Data Scientist with Process Mining (PS01)</td>\n",
       "      <td>Miami, FL</td>\n",
       "      <td>$110,000-$130,000ayear</td>\n",
       "      <td>120000.0</td>\n",
       "    </tr>\n",
       "    <tr>\n",
       "      <th>197</th>\n",
       "      <td>7529</td>\n",
       "      <td>Miami</td>\n",
       "      <td>TowerCommercialRealEstate</td>\n",
       "      <td>Research Analyst</td>\n",
       "      <td>Miami, FL</td>\n",
       "      <td>$40,000-$60,000ayear</td>\n",
       "      <td>50000.0</td>\n",
       "    </tr>\n",
       "    <tr>\n",
       "      <th>198</th>\n",
       "      <td>7533</td>\n",
       "      <td>Miami</td>\n",
       "      <td>StaffingResourceGroup</td>\n",
       "      <td>Formulations Scientist or Technical Services L...</td>\n",
       "      <td>Kendall, FL</td>\n",
       "      <td>$85,000-$90,000ayear</td>\n",
       "      <td>87500.0</td>\n",
       "    </tr>\n",
       "    <tr>\n",
       "      <th>199</th>\n",
       "      <td>7535</td>\n",
       "      <td>Miami</td>\n",
       "      <td>INFOTECHSoft,Inc.</td>\n",
       "      <td>Bioinformatics Software Engineer</td>\n",
       "      <td>Miami, FL</td>\n",
       "      <td>$75,000-$85,000ayear</td>\n",
       "      <td>80000.0</td>\n",
       "    </tr>\n",
       "  </tbody>\n",
       "</table>\n",
       "<p>200 rows × 7 columns</p>\n",
       "</div>"
      ],
      "text/plain": [
       "     Unnamed: 0           City                    Company  \\\n",
       "0            32    Los+Angeles                        NaN   \n",
       "1            93    Los+Angeles         FluidManufacturing   \n",
       "2           105    Los+Angeles                    Harnham   \n",
       "3           122    Los+Angeles                    Harnham   \n",
       "4           155    Los+Angeles                        NaN   \n",
       "5           421    Los+Angeles                    Harnham   \n",
       "6           542         Denver                        NaN   \n",
       "7           566         Denver                        NaN   \n",
       "8          1126  San+Francisco                        NaN   \n",
       "9          1134  San+Francisco                    Harnham   \n",
       "10         1161  San+Francisco                    Harnham   \n",
       "11         1167  San+Francisco                    BlueOwl   \n",
       "12         1179  San+Francisco                    Harnham   \n",
       "13         1189  San+Francisco                    Harnham   \n",
       "14         1221  San+Francisco                        NaN   \n",
       "15         1234  San+Francisco                        NaN   \n",
       "16         1262  San+Francisco                    Harnham   \n",
       "17         1293  San+Francisco                    Harnham   \n",
       "18         1307  San+Francisco                        NaN   \n",
       "19         1312  San+Francisco                        NaN   \n",
       "20         1411  San+Francisco                        NaN   \n",
       "21         1521        Chicago                        NaN   \n",
       "22         1533        Chicago                        NaN   \n",
       "23         1577        Chicago          S.C.International   \n",
       "24         1592        Chicago                        NaN   \n",
       "25         1609        Chicago                        NaN   \n",
       "26         1739        Chicago                        NaN   \n",
       "27         1744        Chicago                        NaN   \n",
       "28         1777        Chicago                        NaN   \n",
       "29         1791        Chicago                        NaN   \n",
       "..          ...            ...                        ...   \n",
       "170        6834       New+York                        NaN   \n",
       "171        6843       New+York                        NaN   \n",
       "172        6855       New+York                    Harnham   \n",
       "173        6874       New+York                        NaN   \n",
       "174        6877       New+York                        NaN   \n",
       "175        6879       New+York                    Harnham   \n",
       "176        6899       New+York                    Harnham   \n",
       "177        6904       New+York                        NaN   \n",
       "178        6909       New+York   DEPARTMENTOFCITYPLANNING   \n",
       "179        6915       New+York                        NaN   \n",
       "180        6954       New+York                        NaN   \n",
       "181        6995     Pittsburgh                        NaN   \n",
       "182        7013     Pittsburgh                        NaN   \n",
       "183        7068     Pittsburgh  VantageSpecialtyChemicals   \n",
       "184        7072     Pittsburgh                        NaN   \n",
       "185        7079     Pittsburgh      SPLConsultingServices   \n",
       "186        7455          Miami          UniversityofMiami   \n",
       "187        7466          Miami                        NaN   \n",
       "188        7482          Miami                        NaN   \n",
       "189        7485          Miami                        NaN   \n",
       "190        7486          Miami                        NaN   \n",
       "191        7491          Miami                        NaN   \n",
       "192        7495          Miami                        NaN   \n",
       "193        7496          Miami                        NaN   \n",
       "194        7503          Miami                        NaN   \n",
       "195        7523          Miami                    Talento   \n",
       "196        7525          Miami                    Peritus   \n",
       "197        7529          Miami  TowerCommercialRealEstate   \n",
       "198        7533          Miami      StaffingResourceGroup   \n",
       "199        7535          Miami          INFOTECHSoft,Inc.   \n",
       "\n",
       "                                                 Title  \\\n",
       "0                                   Computer Scientist   \n",
       "1    Cannabis Lead Formulation Chemist (Flavoring E...   \n",
       "2                Data Scientist, Marketing - Ecommerce   \n",
       "3                                Senior Data Scientist   \n",
       "4                                         MIS Director   \n",
       "5                    Director, Digital Media Analytics   \n",
       "6                      Professional Research Assistant   \n",
       "7                          Operations Research Analyst   \n",
       "8                                       Data Scientist   \n",
       "9                             Marketing Data Scientist   \n",
       "10         Marketing Data Scientist - Contract to Hire   \n",
       "11                                Senior Data Engineer   \n",
       "12            Data Scientist Lead - Remote Opportunity   \n",
       "13                    Data Scientist - Global Retailer   \n",
       "14                                 Lead Data Scientist   \n",
       "15                           Principal, Data Scientist   \n",
       "16                Data Scientist - Marketing Analytics   \n",
       "17                 Senior Deep Learning Data Scientist   \n",
       "18                               Senior Data Scientist   \n",
       "19                                  Research Analyst 5   \n",
       "20   Senior NLP Data Scientist (Python, NLTK, AWS, ...   \n",
       "21                                      Data Scientist   \n",
       "22   Mid Level Data Scientist (Regression/Visualiza...   \n",
       "23                                      Data Scientist   \n",
       "24   Mid-Level Data Scientist (Python, Pandas, NumP...   \n",
       "25         Research Analyst - Oakton Community College   \n",
       "26                            Data Engineer (Downtown)   \n",
       "27                                Data Science Manager   \n",
       "28             Experienced Data Engineer (Health tech)   \n",
       "29   AVP, Salesforce Effectiveness & Commercial Ins...   \n",
       "..                                                 ...   \n",
       "170           POLICY and OPERSTIONS RESEARCH | ANALYST   \n",
       "171                              Child Welfare Analyst   \n",
       "172                    Lead Data Scientist - Aerospace   \n",
       "173                         Research Analyst-Technical   \n",
       "174                                        GIS Analyst   \n",
       "175                    Lead Data Scientist, Hedge Fund   \n",
       "176                       Adtech Senior Data Scientist   \n",
       "177  Data Governance Manager, Bureau of Epidemiolog...   \n",
       "178                                    Borough Planner   \n",
       "179  Data Governance Coordinator, Bureau of HIV/AID...   \n",
       "180                Environmental Compliance Specialist   \n",
       "181                              Laboratory Technician   \n",
       "182                        Flow Cytometry Technologist   \n",
       "183                                     Food Scientist   \n",
       "184       Lead Analyst, Data Management Quant Analysis   \n",
       "185                              Project Administrator   \n",
       "186                                Assistant Scientist   \n",
       "187                      Research Analyst - Pediatrics   \n",
       "188                        Senior Research Associate 1   \n",
       "189                               Sr. Research Analyst   \n",
       "190                  Research Analyst (Bioinformatics)   \n",
       "191    Grants and Contracts Analyst (Research Analyst)   \n",
       "192  Oncology Research Analyst / Healthcare Adminis...   \n",
       "193                      Sr. Manager, Research Support   \n",
       "194  Sr. Clinical Systems Analyst - EPIC (Ambulator...   \n",
       "195                         Entry Level Data Scientist   \n",
       "196          Data Scientist with Process Mining (PS01)   \n",
       "197                                   Research Analyst   \n",
       "198  Formulations Scientist or Technical Services L...   \n",
       "199                   Bioinformatics Software Engineer   \n",
       "\n",
       "                        Location                  Salary  Clean_Salary  \n",
       "0                Los Angeles, CA  $108,281-$153,510ayear      130895.5  \n",
       "1    Pacific Palisades, CA 90272   $60,000-$125,000ayear       92500.0  \n",
       "2                Los Angeles, CA           $120,000ayear      120000.0  \n",
       "3                Los Angeles, CA           $150,000ayear      150000.0  \n",
       "4                Los Angeles, CA  $124,239-$207,057ayear      165648.0  \n",
       "5                Los Angeles, CA           $160,000ayear      160000.0  \n",
       "6                     Aurora, CO    $45,000-$75,000ayear       60000.0  \n",
       "7                Buckley AFB, CO   $72,168-$155,073ayear      113620.5  \n",
       "8              San Francisco, CA  $130,000-$190,000ayear      160000.0  \n",
       "9              San Francisco, CA           $150,000ayear      150000.0  \n",
       "10                   Oakland, CA           $120,000ayear      120000.0  \n",
       "11             San Francisco, CA  $200,000-$300,000ayear      250000.0  \n",
       "12             San Francisco, CA           $120,000ayear      120000.0  \n",
       "13                   Oakland, CA           $120,000ayear      120000.0  \n",
       "14             San Francisco, CA  $170,000-$220,000ayear      195000.0  \n",
       "15             San Francisco, CA  $180,000-$220,000ayear      200000.0  \n",
       "16             San Francisco, CA           $150,000ayear      150000.0  \n",
       "17             San Francisco, CA           $180,000ayear      180000.0  \n",
       "18             San Francisco, CA  $150,000-$190,000ayear      170000.0  \n",
       "19                  Berkeley, CA   $86,600-$101,800ayear       94200.0  \n",
       "20             San Francisco, CA  $140,000-$190,000ayear      165000.0  \n",
       "21                   Chicago, IL  $125,000-$130,000ayear      127500.0  \n",
       "22                   Chicago, IL   $95,000-$115,000ayear      105000.0  \n",
       "23                   Chicago, IL           $100,000ayear      100000.0  \n",
       "24                   Chicago, IL           $120,000ayear      120000.0  \n",
       "25         Des Plaines, IL 60016            $57,702ayear       57702.0  \n",
       "26                   Chicago, IL  $100,000-$120,000ayear      110000.0  \n",
       "27                   Chicago, IL  $100,000-$150,000ayear      125000.0  \n",
       "28                   Chicago, IL   $95,000-$120,000ayear      107500.0  \n",
       "29                   Chicago, IL   $70,000-$150,000ayear      110000.0  \n",
       "..                           ...                     ...           ...  \n",
       "170                Manhattan, NY    $58,162-$65,433ayear       61797.5  \n",
       "171                Manhattan, NY    $70,286-$83,784ayear       77035.0  \n",
       "172                 New York, NY           $240,000ayear      240000.0  \n",
       "173                 New York, NY            $48,000ayear       48000.0  \n",
       "174                 New York, NY   $78,630-$103,332ayear       90981.0  \n",
       "175                 New York, NY           $180,000ayear      180000.0  \n",
       "176                 New York, NY           $180,000ayear      180000.0  \n",
       "177                   Queens, NY    $78,630-$90,659ayear       84644.5  \n",
       "178                 Brooklyn, NY    $59,708-$65,678ayear       62693.0  \n",
       "179                   Queens, NY    $70,286-$80,829ayear       75557.5  \n",
       "180                Manhattan, NY    $70,286-$88,213ayear       79249.5  \n",
       "181               Pittsburgh, PA    $20,904-$32,760ayear       26832.0  \n",
       "182               Pittsburgh, PA    $23,868-$37,752ayear       30810.0  \n",
       "183                 Carnegie, PA   $85,000-$110,000ayear       97500.0  \n",
       "184                          NaN            $52,000ayear       52000.0  \n",
       "185                          NaN    $32,000-$38,000ayear       35000.0  \n",
       "186             Coral Gables, FL    $53,900-$60,000ayear       56950.0  \n",
       "187             Coral Gables, FL    $32,900-$34,000ayear       33450.0  \n",
       "188             Coral Gables, FL    $32,900-$59,100ayear       46000.0  \n",
       "189             Coral Gables, FL    $40,000-$72,000ayear       56000.0  \n",
       "190             Coral Gables, FL    $32,900-$46,000ayear       39450.0  \n",
       "191             Coral Gables, FL    $32,900-$50,000ayear       41450.0  \n",
       "192             Coral Gables, FL            $38,750ayear       38750.0  \n",
       "193             Coral Gables, FL    $64,600-$80,000ayear       72300.0  \n",
       "194             Coral Gables, FL   $67,500-$108,000ayear       87750.0  \n",
       "195                 Aventura, FL    $50,000-$70,000ayear       60000.0  \n",
       "196                    Miami, FL  $110,000-$130,000ayear      120000.0  \n",
       "197                    Miami, FL    $40,000-$60,000ayear       50000.0  \n",
       "198                  Kendall, FL    $85,000-$90,000ayear       87500.0  \n",
       "199                    Miami, FL    $75,000-$85,000ayear       80000.0  \n",
       "\n",
       "[200 rows x 7 columns]"
      ]
     },
     "execution_count": 14,
     "metadata": {},
     "output_type": "execute_result"
    }
   ],
   "source": [
    "## YOUR CODE HERE\n",
    "df = pd.read_csv('./indeed_results.csv')\n",
    "df"
   ]
  },
  {
   "cell_type": "markdown",
   "metadata": {
    "focus": false,
    "id": "c7631f51-07f2-4c79-a093-3e9bc7849a48"
   },
   "source": [
    "#### We want to predict a binary variable - whether the salary was low or high. Compute the median salary and create a new binary variable that is true when the salary is high (above the median).\n",
    "\n",
    "We could also perform Linear Regression (or any regression) to predict the salary value here. Instead, we are going to convert this into a _binary_ classification problem, by predicting two classes, HIGH vs LOW salary.\n",
    "\n",
    "While performing regression may be better, performing classification may help remove some of the noise of the extreme salaries. We don't have to choose the `median` as the splitting point - we could also split on the 75th percentile or any other reasonable breaking point.\n",
    "\n",
    "In fact, the ideal scenario may be to predict many levels of salaries."
   ]
  },
  {
   "cell_type": "code",
   "execution_count": 6,
   "metadata": {
    "focus": false,
    "id": "c20d2498-151c-44c3-a453-3a333c79a0ac"
   },
   "outputs": [],
   "source": [
    "## YOUR CODE HERE\n",
    "from sklearn.linear_model import LogisticRegression\n",
    "from sklearn.model_selection import train_test_split"
   ]
  },
  {
   "cell_type": "code",
   "execution_count": 7,
   "metadata": {},
   "outputs": [],
   "source": [
    "from sklearn.preprocessing import StandardScaler\n",
    "scaler = StandardScaler()"
   ]
  },
  {
   "cell_type": "code",
   "execution_count": 15,
   "metadata": {},
   "outputs": [],
   "source": [
    "#Create a classifier column --> y = 1 if Salary > np.median(Salary), y = 0 if Salary < np.median(Salary)\n",
    "df['Salary_Class'] = [1 if num > np.median(df.Clean_Salary) else 0 for num in df.Clean_Salary]"
   ]
  },
  {
   "cell_type": "markdown",
   "metadata": {},
   "source": [
    "#### The following cells were used to make new variables in my dataframe to represent interesting features of a job title"
   ]
  },
  {
   "cell_type": "code",
   "execution_count": 16,
   "metadata": {},
   "outputs": [],
   "source": [
    "#Create new columns for certain key words\n",
    "def find_word(df, ref_col, word):\n",
    "    df[word] = df[ref_col].map(lambda x: 1 if x.lower().find(word) >= 0 else 0)"
   ]
  },
  {
   "cell_type": "code",
   "execution_count": 17,
   "metadata": {},
   "outputs": [],
   "source": [
    "#For similar words, \n",
    "def similar_words(x, lst):\n",
    "    integer = 0\n",
    "    for word in lst:\n",
    "        if x.lower().find(word) >=0:\n",
    "            integer+=1\n",
    "    if integer >0:\n",
    "        return 1\n",
    "    else:\n",
    "        return 0"
   ]
  },
  {
   "cell_type": "code",
   "execution_count": 18,
   "metadata": {},
   "outputs": [],
   "source": [
    "for word in ['Director', 'Analyst', 'Principal', 'Lead']:\n",
    "    find_word(df, 'Title', word)"
   ]
  },
  {
   "cell_type": "code",
   "execution_count": 19,
   "metadata": {},
   "outputs": [],
   "source": [
    "df['Manager'] = df['Title'].map(lambda x: similar_words(x, ['manager', 'mgr']))"
   ]
  },
  {
   "cell_type": "code",
   "execution_count": 20,
   "metadata": {},
   "outputs": [],
   "source": [
    "df['Assistant'] = df['Title'].map(lambda x: similar_words(x, ['assistant', 'asst']))"
   ]
  },
  {
   "cell_type": "code",
   "execution_count": 21,
   "metadata": {},
   "outputs": [],
   "source": [
    "df['Junior'] = df['Title'].map(lambda x: similar_words(x, ['junior', 'entry']))"
   ]
  },
  {
   "cell_type": "code",
   "execution_count": 22,
   "metadata": {},
   "outputs": [],
   "source": [
    "for word in ['contract', 'engineer', 'mid', 'research', 'remote', 'machine', 'big', 'scientist']:\n",
    "    find_word(df, 'Title', word)"
   ]
  },
  {
   "cell_type": "markdown",
   "metadata": {},
   "source": [
    "#### Dummify the City variable"
   ]
  },
  {
   "cell_type": "code",
   "execution_count": 23,
   "metadata": {},
   "outputs": [],
   "source": [
    "df = pd.get_dummies(df, columns=['City'])"
   ]
  },
  {
   "cell_type": "markdown",
   "metadata": {
    "focus": false,
    "id": "a7afb2c0-d41e-4779-8216-91cd8dd4473f"
   },
   "source": [
    "#### Thought experiment: What is the baseline accuracy for this model?"
   ]
  },
  {
   "cell_type": "code",
   "execution_count": 26,
   "metadata": {
    "focus": false,
    "id": "87a17d3d-b7f4-4747-9f75-f9af1d18a174"
   },
   "outputs": [
    {
     "name": "stdout",
     "output_type": "stream",
     "text": [
      "Baseline Accuracy:  Salary_Class    0.5\n",
      "dtype: float64\n"
     ]
    }
   ],
   "source": [
    "## YOUR CODE HERE\n",
    "# baseline:\n",
    "print('Baseline Accuracy: ', np.mean(y))"
   ]
  },
  {
   "cell_type": "markdown",
   "metadata": {
    "focus": false,
    "id": "4fb29de2-5b98-474c-a4ad-5170b72b9aea"
   },
   "source": [
    "### Create a classification model to predict High/Low salary. \n",
    "\n",
    "\n",
    "#### Model based on location:\n",
    "\n",
    "- Start by ONLY using the location as a feature. \n",
    "- Use logistic regression with both statsmodels and sklearn.\n",
    "- Use a further classifier you find suitable.\n",
    "- Remember that scaling your features might be necessary.\n",
    "- Display the coefficients/feature importances and write a short summary of what they mean.\n",
    "\n",
    "#### Model taking into account job levels and categories:\n",
    "\n",
    "- Create a few new variables in your dataframe to represent interesting features of a job title.\n",
    "- For example, create a feature that represents whether 'Senior' is in the title or whether 'Manager' is in the title. \n",
    "- Incorporate other text features from the title or summary that you believe will predict the salary.\n",
    "- Then build new classification models including also those features. Do they add any value? \n",
    "- Tune your models by testing parameter ranges, regularization strengths, etc. Discuss how that affects your models. \n",
    "- Discuss model coefficients or feature importances as applicable.\n",
    "\n",
    "#### Model evaluation:\n",
    "\n",
    "Your boss would rather tell a client incorrectly that they would get a lower salary job than tell a client incorrectly that they would get a high salary job. Adjust one of your models to ease his mind, and explain what it is doing and any tradeoffs. \n",
    "\n",
    "\n",
    "- Use cross-validation to evaluate your models. \n",
    "- Evaluate the accuracy, AUC, precision and recall of the models. \n",
    "- Plot the ROC and precision-recall curves for at least one of your models.\n",
    "\n",
    "#### Bonus:\n",
    "\n",
    "- Answer the salary discussion by using your model to explain the tradeoffs between detecting high vs low salary positions. \n",
    "- Discuss the differences and explain when you want a high-recall or a high-precision model in this scenario.\n",
    "- Obtain the ROC/precision-recall curves for the different models you studied (at least the tuned model of each category) and compare."
   ]
  },
  {
   "cell_type": "code",
   "execution_count": 43,
   "metadata": {},
   "outputs": [],
   "source": [
    "from sklearn.metrics import classification_report, confusion_matrix, accuracy_score\n",
    "from sklearn import metrics\n",
    "import matplotlib.pyplot as plt\n",
    "from sklearn.tree import DecisionTreeClassifier\n",
    "def produce_model(X, y, model_type):\n",
    "    if model_type == \"lr\":\n",
    "        model = LogisticRegression\n",
    "    else:\n",
    "        model = DecisionTreeClassifier\n",
    "    \n",
    "    #Set your X and y train and tests\n",
    "    X_train, X_test, y_train, y_test = train_test_split(X,y,test_size=0.3,random_state=1)\n",
    "    \n",
    "    #Rescale the dataset\n",
    "    scaler = StandardScaler()\n",
    "    X_train = pd.DataFrame(scaler.fit_transform(X_train),columns=X_train.columns,index=X_train.index)\n",
    "    X_test = pd.DataFrame(scaler.transform(X_test),columns=X_test.columns,index=X_test.index)\n",
    "    \n",
    "    #Fit a model on the training set. Evaluate it and get the predictions on the test set.\n",
    "    model = model()\n",
    "    model.fit(X_train, y_train)\n",
    "    model.score(X_test, y_test)\n",
    "    y_pred = model.predict(X_test)\n",
    "    print(accuracy_score(y_test, y_pred))\n",
    "    \n",
    "    if model_type == 'lr':\n",
    "        #Coefficients\n",
    "        coefs_vars = pd.DataFrame({\n",
    "            'coef': model.coef_[0],\n",
    "            'variable': X.columns,\n",
    "            'abscoef': np.abs(model.coef_[0])\n",
    "        })\n",
    "        coefs_vars.sort_values('abscoef', ascending=False, inplace=True)\n",
    "        coefs_vars.plot(kind='barh',x='variable',y='coef',color='r',figsize=(12,12))\n",
    "        plt.show()\n",
    "    else:\n",
    "        #Feature Importances\n",
    "        model.feature_importances_\n",
    "        df_fi = pd.DataFrame({\n",
    "            'feature': X.columns,\n",
    "            'importance': model.feature_importances_\n",
    "        })\n",
    "        df_fi.sort_values('importance', ascending=False, inplace=True)\n",
    "        return df_fi"
   ]
  },
  {
   "cell_type": "markdown",
   "metadata": {},
   "source": [
    "### Model based on location:"
   ]
  },
  {
   "cell_type": "code",
   "execution_count": 28,
   "metadata": {},
   "outputs": [],
   "source": [
    "#Set X and Y\n",
    "X = df[['City_Atlanta','City_Austin', 'City_Chicago', 'City_Dallas', 'City_Denver',\n",
    "       'City_Houston', 'City_London', 'City_Los+Angeles', 'City_Miami',\n",
    "       'City_New+York', 'City_Philadelphia', 'City_Phoenix', 'City_Pittsburgh',\n",
    "       'City_Portland', 'City_San+Francisco', 'City_Seattle']]\n",
    "y = df.Salary_Class\n"
   ]
  },
  {
   "cell_type": "code",
   "execution_count": 29,
   "metadata": {},
   "outputs": [
    {
     "name": "stdout",
     "output_type": "stream",
     "text": [
      "0.7166666666666667\n"
     ]
    },
    {
     "data": {
      "image/png": "[encoded data removed]",
      "text/plain": [
       "<Figure size 864x864 with 1 Axes>"
      ]
     },
     "metadata": {},
     "output_type": "display_data"
    }
   ],
   "source": [
    "#Using SKlearn\n",
    "produce_model(X, y, 'lr')"
   ]
  },
  {
   "cell_type": "markdown",
   "metadata": {},
   "source": [
    "#### Short Summary about the coefficients for the LR model above\n",
    "The bar chart above shows the coeeficient for each location. From here we can see that San Francisco, New York, and Portland have the highest impact/weight on determining whether the salary is above or below the median. "
   ]
  },
  {
   "cell_type": "code",
   "execution_count": 30,
   "metadata": {},
   "outputs": [],
   "source": [
    "#Using StatsModel\n",
    "from scipy import stats\n",
    "import statsmodels.formula.api as smf\n",
    "stats_df = df[['City_Atlanta','City_Austin', 'City_Chicago', 'City_Dallas', 'City_Denver',\n",
    "       'City_Houston', 'City_London', 'City_Los+Angeles', 'City_Miami',\n",
    "       'City_New+York', 'City_Philadelphia', 'City_Phoenix', 'City_Pittsburgh',\n",
    "       'City_Portland', 'City_San+Francisco', 'City_Seattle', 'Salary_Class']]"
   ]
  },
  {
   "cell_type": "code",
   "execution_count": 31,
   "metadata": {},
   "outputs": [],
   "source": [
    "X_train, X_test, y_train, y_test = train_test_split(X,y,test_size=0.3,random_state=1)\n",
    "scaler = StandardScaler()\n",
    "X_train = pd.DataFrame(scaler.fit_transform(X_train),columns=X_train.columns,index=X_train.index)\n",
    "X_test = pd.DataFrame(scaler.transform(X_test),columns=X_test.columns,index=X_test.index)"
   ]
  },
  {
   "cell_type": "code",
   "execution_count": 32,
   "metadata": {},
   "outputs": [
    {
     "name": "stdout",
     "output_type": "stream",
     "text": [
      "Warning: Maximum number of iterations has been exceeded.\n",
      "         Current function value: 0.442474\n",
      "         Iterations: 35\n"
     ]
    },
    {
     "name": "stderr",
     "output_type": "stream",
     "text": [
      "C:\\Users\\panch\\Anaconda3\\lib\\site-packages\\statsmodels\\base\\model.py:508: ConvergenceWarning: Maximum Likelihood optimization failed to converge. Check mle_retvals\n",
      "  \"Check mle_retvals\", ConvergenceWarning)\n"
     ]
    },
    {
     "data": {
      "text/html": [
       "<table class=\"simpletable\">\n",
       "<caption>Logit Regression Results</caption>\n",
       "<tr>\n",
       "  <th>Dep. Variable:</th>   <td>Salary_Class</td>   <th>  No. Observations:  </th>  <td>   140</td>  \n",
       "</tr>\n",
       "<tr>\n",
       "  <th>Model:</th>               <td>Logit</td>      <th>  Df Residuals:      </th>  <td>   125</td>  \n",
       "</tr>\n",
       "<tr>\n",
       "  <th>Method:</th>               <td>MLE</td>       <th>  Df Model:          </th>  <td>    14</td>  \n",
       "</tr>\n",
       "<tr>\n",
       "  <th>Date:</th>          <td>Tue, 07 Aug 2018</td> <th>  Pseudo R-squ.:     </th>  <td>0.3601</td>  \n",
       "</tr>\n",
       "<tr>\n",
       "  <th>Time:</th>              <td>17:29:17</td>     <th>  Log-Likelihood:    </th> <td> -61.946</td> \n",
       "</tr>\n",
       "<tr>\n",
       "  <th>converged:</th>           <td>False</td>      <th>  LL-Null:           </th> <td> -96.812</td> \n",
       "</tr>\n",
       "<tr>\n",
       "  <th> </th>                      <td> </td>        <th>  LLR p-value:       </th> <td>2.159e-09</td>\n",
       "</tr>\n",
       "</table>\n",
       "<table class=\"simpletable\">\n",
       "<tr>\n",
       "           <td></td>             <th>coef</th>     <th>std err</th>      <th>z</th>      <th>P>|z|</th>  <th>[0.025</th>    <th>0.975]</th>  \n",
       "</tr>\n",
       "<tr>\n",
       "  <th>City_Atlanta</th>       <td>   -0.0637</td> <td> 4.95e+06</td> <td>-1.29e-08</td> <td> 1.000</td> <td> -9.7e+06</td> <td>  9.7e+06</td>\n",
       "</tr>\n",
       "<tr>\n",
       "  <th>City_Austin</th>        <td>    0.2471</td> <td> 3.41e+06</td> <td> 7.24e-08</td> <td> 1.000</td> <td>-6.69e+06</td> <td> 6.69e+06</td>\n",
       "</tr>\n",
       "<tr>\n",
       "  <th>City_Chicago</th>       <td>    0.2939</td> <td> 4.51e+06</td> <td> 6.51e-08</td> <td> 1.000</td> <td>-8.84e+06</td> <td> 8.84e+06</td>\n",
       "</tr>\n",
       "<tr>\n",
       "  <th>City_Dallas</th>        <td>    0.1739</td> <td> 3.06e+06</td> <td> 5.68e-08</td> <td> 1.000</td> <td>-6.01e+06</td> <td> 6.01e+06</td>\n",
       "</tr>\n",
       "<tr>\n",
       "  <th>City_Denver</th>        <td>   -0.0065</td> <td> 2.18e+06</td> <td>-2.97e-09</td> <td> 1.000</td> <td>-4.28e+06</td> <td> 4.28e+06</td>\n",
       "</tr>\n",
       "<tr>\n",
       "  <th>City_Houston</th>       <td>   -0.2313</td> <td> 5.69e+06</td> <td>-4.06e-08</td> <td> 1.000</td> <td>-1.12e+07</td> <td> 1.12e+07</td>\n",
       "</tr>\n",
       "<tr>\n",
       "  <th>City_London</th>        <td>   -0.0091</td> <td> 3.06e+06</td> <td>-2.97e-09</td> <td> 1.000</td> <td>-6.01e+06</td> <td> 6.01e+06</td>\n",
       "</tr>\n",
       "<tr>\n",
       "  <th>City_Los+Angeles</th>   <td>    4.6186</td> <td> 3.41e+06</td> <td> 1.35e-06</td> <td> 1.000</td> <td>-6.69e+06</td> <td> 6.69e+06</td>\n",
       "</tr>\n",
       "<tr>\n",
       "  <th>City_Miami</th>         <td>   -0.5234</td> <td> 4.51e+06</td> <td>-1.16e-07</td> <td> 1.000</td> <td>-8.84e+06</td> <td> 8.84e+06</td>\n",
       "</tr>\n",
       "<tr>\n",
       "  <th>City_New+York</th>      <td>   -0.8155</td> <td> 7.64e+06</td> <td>-1.07e-07</td> <td> 1.000</td> <td> -1.5e+07</td> <td>  1.5e+07</td>\n",
       "</tr>\n",
       "<tr>\n",
       "  <th>City_Philadelphia</th>  <td>    0.5546</td> <td>  6.3e+06</td> <td>  8.8e-08</td> <td> 1.000</td> <td>-1.23e+07</td> <td> 1.23e+07</td>\n",
       "</tr>\n",
       "<tr>\n",
       "  <th>City_Phoenix</th>       <td>   -0.1921</td> <td> 3.06e+06</td> <td>-6.27e-08</td> <td> 1.000</td> <td>-6.01e+06</td> <td> 6.01e+06</td>\n",
       "</tr>\n",
       "<tr>\n",
       "  <th>City_Pittsburgh</th>    <td>   -0.0065</td> <td> 2.18e+06</td> <td>-2.97e-09</td> <td> 1.000</td> <td>-4.28e+06</td> <td> 4.28e+06</td>\n",
       "</tr>\n",
       "<tr>\n",
       "  <th>City_Portland</th>      <td>   -9.0682</td> <td> 3.73e+06</td> <td>-2.43e-06</td> <td> 1.000</td> <td> -7.3e+06</td> <td>  7.3e+06</td>\n",
       "</tr>\n",
       "<tr>\n",
       "  <th>City_San+Francisco</th> <td>    5.3232</td> <td> 4.27e+06</td> <td> 1.25e-06</td> <td> 1.000</td> <td>-8.37e+06</td> <td> 8.37e+06</td>\n",
       "</tr>\n",
       "<tr>\n",
       "  <th>City_Seattle</th>       <td>   -0.0110</td> <td> 3.73e+06</td> <td>-2.97e-09</td> <td> 1.000</td> <td> -7.3e+06</td> <td>  7.3e+06</td>\n",
       "</tr>\n",
       "</table><br/><br/>Possibly complete quasi-separation: A fraction 0.14 of observations can be<br/>perfectly predicted. This might indicate that there is complete<br/>quasi-separation. In this case some parameters will not be identified."
      ],
      "text/plain": [
       "<class 'statsmodels.iolib.summary.Summary'>\n",
       "\"\"\"\n",
       "                           Logit Regression Results                           \n",
       "==============================================================================\n",
       "Dep. Variable:           Salary_Class   No. Observations:                  140\n",
       "Model:                          Logit   Df Residuals:                      125\n",
       "Method:                           MLE   Df Model:                           14\n",
       "Date:                Tue, 07 Aug 2018   Pseudo R-squ.:                  0.3601\n",
       "Time:                        17:29:17   Log-Likelihood:                -61.946\n",
       "converged:                      False   LL-Null:                       -96.812\n",
       "                                        LLR p-value:                 2.159e-09\n",
       "======================================================================================\n",
       "                         coef    std err          z      P>|z|      [0.025      0.975]\n",
       "--------------------------------------------------------------------------------------\n",
       "City_Atlanta          -0.0637   4.95e+06  -1.29e-08      1.000    -9.7e+06     9.7e+06\n",
       "City_Austin            0.2471   3.41e+06   7.24e-08      1.000   -6.69e+06    6.69e+06\n",
       "City_Chicago           0.2939   4.51e+06   6.51e-08      1.000   -8.84e+06    8.84e+06\n",
       "City_Dallas            0.1739   3.06e+06   5.68e-08      1.000   -6.01e+06    6.01e+06\n",
       "City_Denver           -0.0065   2.18e+06  -2.97e-09      1.000   -4.28e+06    4.28e+06\n",
       "City_Houston          -0.2313   5.69e+06  -4.06e-08      1.000   -1.12e+07    1.12e+07\n",
       "City_London           -0.0091   3.06e+06  -2.97e-09      1.000   -6.01e+06    6.01e+06\n",
       "City_Los+Angeles       4.6186   3.41e+06   1.35e-06      1.000   -6.69e+06    6.69e+06\n",
       "City_Miami            -0.5234   4.51e+06  -1.16e-07      1.000   -8.84e+06    8.84e+06\n",
       "City_New+York         -0.8155   7.64e+06  -1.07e-07      1.000    -1.5e+07     1.5e+07\n",
       "City_Philadelphia      0.5546    6.3e+06    8.8e-08      1.000   -1.23e+07    1.23e+07\n",
       "City_Phoenix          -0.1921   3.06e+06  -6.27e-08      1.000   -6.01e+06    6.01e+06\n",
       "City_Pittsburgh       -0.0065   2.18e+06  -2.97e-09      1.000   -4.28e+06    4.28e+06\n",
       "City_Portland         -9.0682   3.73e+06  -2.43e-06      1.000    -7.3e+06     7.3e+06\n",
       "City_San+Francisco     5.3232   4.27e+06   1.25e-06      1.000   -8.37e+06    8.37e+06\n",
       "City_Seattle          -0.0110   3.73e+06  -2.97e-09      1.000    -7.3e+06     7.3e+06\n",
       "======================================================================================\n",
       "\n",
       "Possibly complete quasi-separation: A fraction 0.14 of observations can be\n",
       "perfectly predicted. This might indicate that there is complete\n",
       "quasi-separation. In this case some parameters will not be identified.\n",
       "\"\"\""
      ]
     },
     "execution_count": 32,
     "metadata": {},
     "output_type": "execute_result"
    }
   ],
   "source": [
    "results = smf.Logit(y_train, X_train).fit()\n",
    "#results = model.fit()\n",
    "results.summary(yname='Salary_Class', xname=['City_Atlanta', 'City_Austin', 'City_Chicago', 'City_Dallas',\n",
    "                                             'City_Denver', 'City_Houston', 'City_London', 'City_Los+Angeles',\n",
    "                                             'City_Miami', 'City_New+York', 'City_Philadelphia', 'City_Phoenix',\n",
    "                                             'City_Pittsburgh', 'City_Portland', 'City_San+Francisco',\n",
    "                                             'City_Seattle'])"
   ]
  },
  {
   "cell_type": "code",
   "execution_count": 33,
   "metadata": {},
   "outputs": [],
   "source": [
    "predictions = (results.predict(X_test)>.5)*1"
   ]
  },
  {
   "cell_type": "code",
   "execution_count": 34,
   "metadata": {},
   "outputs": [
    {
     "data": {
      "text/plain": [
       "0.7833333333333333"
      ]
     },
     "execution_count": 34,
     "metadata": {},
     "output_type": "execute_result"
    }
   ],
   "source": [
    "accuracy_score(y_test, predictions)"
   ]
  },
  {
   "cell_type": "markdown",
   "metadata": {},
   "source": [
    "#### Short summary about coefficients using Stats Model\n",
    "The summary of the stats model gives us the coefficient value, standard error, z score and other values. The coefficient values are different than what we got using SKlearn, for example, Portland has the highest absolute impact, next its SF and then LA. However, the accuracy score seems to be larger than that of using SKlearn. "
   ]
  },
  {
   "cell_type": "code",
   "execution_count": 35,
   "metadata": {},
   "outputs": [
    {
     "name": "stdout",
     "output_type": "stream",
     "text": [
      "0.7833333333333333\n"
     ]
    },
    {
     "data": {
      "text/html": [
       "<div>\n",
       "<style scoped>\n",
       "    .dataframe tbody tr th:only-of-type {\n",
       "        vertical-align: middle;\n",
       "    }\n",
       "\n",
       "    .dataframe tbody tr th {\n",
       "        vertical-align: top;\n",
       "    }\n",
       "\n",
       "    .dataframe thead th {\n",
       "        text-align: right;\n",
       "    }\n",
       "</style>\n",
       "<table border=\"1\" class=\"dataframe\">\n",
       "  <thead>\n",
       "    <tr style=\"text-align: right;\">\n",
       "      <th></th>\n",
       "      <th>feature</th>\n",
       "      <th>importance</th>\n",
       "    </tr>\n",
       "  </thead>\n",
       "  <tbody>\n",
       "    <tr>\n",
       "      <th>9</th>\n",
       "      <td>City_New+York</td>\n",
       "      <td>0.320367</td>\n",
       "    </tr>\n",
       "    <tr>\n",
       "      <th>13</th>\n",
       "      <td>City_Portland</td>\n",
       "      <td>0.163008</td>\n",
       "    </tr>\n",
       "    <tr>\n",
       "      <th>8</th>\n",
       "      <td>City_Miami</td>\n",
       "      <td>0.141042</td>\n",
       "    </tr>\n",
       "    <tr>\n",
       "      <th>5</th>\n",
       "      <td>City_Houston</td>\n",
       "      <td>0.122011</td>\n",
       "    </tr>\n",
       "    <tr>\n",
       "      <th>0</th>\n",
       "      <td>City_Atlanta</td>\n",
       "      <td>0.068762</td>\n",
       "    </tr>\n",
       "    <tr>\n",
       "      <th>11</th>\n",
       "      <td>City_Phoenix</td>\n",
       "      <td>0.060886</td>\n",
       "    </tr>\n",
       "    <tr>\n",
       "      <th>15</th>\n",
       "      <td>City_Seattle</td>\n",
       "      <td>0.035943</td>\n",
       "    </tr>\n",
       "    <tr>\n",
       "      <th>6</th>\n",
       "      <td>City_London</td>\n",
       "      <td>0.028399</td>\n",
       "    </tr>\n",
       "    <tr>\n",
       "      <th>14</th>\n",
       "      <td>City_San+Francisco</td>\n",
       "      <td>0.017904</td>\n",
       "    </tr>\n",
       "    <tr>\n",
       "      <th>7</th>\n",
       "      <td>City_Los+Angeles</td>\n",
       "      <td>0.014738</td>\n",
       "    </tr>\n",
       "    <tr>\n",
       "      <th>12</th>\n",
       "      <td>City_Pittsburgh</td>\n",
       "      <td>0.012580</td>\n",
       "    </tr>\n",
       "    <tr>\n",
       "      <th>4</th>\n",
       "      <td>City_Denver</td>\n",
       "      <td>0.011353</td>\n",
       "    </tr>\n",
       "    <tr>\n",
       "      <th>10</th>\n",
       "      <td>City_Philadelphia</td>\n",
       "      <td>0.002625</td>\n",
       "    </tr>\n",
       "    <tr>\n",
       "      <th>3</th>\n",
       "      <td>City_Dallas</td>\n",
       "      <td>0.000272</td>\n",
       "    </tr>\n",
       "    <tr>\n",
       "      <th>2</th>\n",
       "      <td>City_Chicago</td>\n",
       "      <td>0.000109</td>\n",
       "    </tr>\n",
       "    <tr>\n",
       "      <th>1</th>\n",
       "      <td>City_Austin</td>\n",
       "      <td>0.000000</td>\n",
       "    </tr>\n",
       "  </tbody>\n",
       "</table>\n",
       "</div>"
      ],
      "text/plain": [
       "               feature  importance\n",
       "9        City_New+York    0.320367\n",
       "13       City_Portland    0.163008\n",
       "8           City_Miami    0.141042\n",
       "5         City_Houston    0.122011\n",
       "0         City_Atlanta    0.068762\n",
       "11        City_Phoenix    0.060886\n",
       "15        City_Seattle    0.035943\n",
       "6          City_London    0.028399\n",
       "14  City_San+Francisco    0.017904\n",
       "7     City_Los+Angeles    0.014738\n",
       "12     City_Pittsburgh    0.012580\n",
       "4          City_Denver    0.011353\n",
       "10   City_Philadelphia    0.002625\n",
       "3          City_Dallas    0.000272\n",
       "2         City_Chicago    0.000109\n",
       "1          City_Austin    0.000000"
      ]
     },
     "execution_count": 35,
     "metadata": {},
     "output_type": "execute_result"
    }
   ],
   "source": [
    "#Using Decision Tree\n",
    "produce_model(X, y, DecisionTreeClassifier)"
   ]
  },
  {
   "cell_type": "markdown",
   "metadata": {},
   "source": [
    "#### Short Summary about the Feature Importance using a DecisionTreeClassifier\n",
    "The table above shows all the features used in the Decision Tree in order of their importance. We can see that the top three are New York, Portland, and Miami. SF falls to the 9th spot. Another difference is that the classifier can give a 0 weight/importance to a coefficient, where as the Logistic Regression functions above didn't. The Decision Tree gave us just as good of an accuracy score as the Logit function. "
   ]
  },
  {
   "cell_type": "markdown",
   "metadata": {},
   "source": [
    "### Model taking into account job levels and categories:"
   ]
  },
  {
   "cell_type": "code",
   "execution_count": 36,
   "metadata": {},
   "outputs": [],
   "source": [
    "#Set X and Y\n",
    "cols_not_to_inlc = ['Salary_Class', 'Company', 'Title', 'Location', 'Salary', 'Clean_Salary', 'Unnamed: 0']\n",
    "X = df.drop(cols_not_to_inlc, axis=1)\n",
    "#All columns except Salary_Class, Company, Title, Location, Salary, Clean_Salary\n",
    "y = df[['Salary_Class']]"
   ]
  },
  {
   "cell_type": "markdown",
   "metadata": {},
   "source": [
    "#### LogisticRegression Model"
   ]
  },
  {
   "cell_type": "code",
   "execution_count": 37,
   "metadata": {},
   "outputs": [
    {
     "name": "stderr",
     "output_type": "stream",
     "text": [
      "C:\\Users\\panch\\Anaconda3\\lib\\site-packages\\sklearn\\utils\\validation.py:578: DataConversionWarning: A column-vector y was passed when a 1d array was expected. Please change the shape of y to (n_samples, ), for example using ravel().\n",
      "  y = column_or_1d(y, warn=True)\n"
     ]
    },
    {
     "name": "stdout",
     "output_type": "stream",
     "text": [
      "0.7333333333333333\n"
     ]
    },
    {
     "data": {
      "image/png": "[encoded data removed]",
      "text/plain": [
       "<Figure size 864x864 with 1 Axes>"
      ]
     },
     "metadata": {},
     "output_type": "display_data"
    }
   ],
   "source": [
    "produce_model(X, y, 'lr')"
   ]
  },
  {
   "cell_type": "markdown",
   "metadata": {},
   "source": [
    "#### DecisionTreeClassifier Model"
   ]
  },
  {
   "cell_type": "code",
   "execution_count": 38,
   "metadata": {},
   "outputs": [
    {
     "name": "stdout",
     "output_type": "stream",
     "text": [
      "0.7666666666666667\n"
     ]
    },
    {
     "data": {
      "text/html": [
       "<div>\n",
       "<style scoped>\n",
       "    .dataframe tbody tr th:only-of-type {\n",
       "        vertical-align: middle;\n",
       "    }\n",
       "\n",
       "    .dataframe tbody tr th {\n",
       "        vertical-align: top;\n",
       "    }\n",
       "\n",
       "    .dataframe thead th {\n",
       "        text-align: right;\n",
       "    }\n",
       "</style>\n",
       "<table border=\"1\" class=\"dataframe\">\n",
       "  <thead>\n",
       "    <tr style=\"text-align: right;\">\n",
       "      <th></th>\n",
       "      <th>feature</th>\n",
       "      <th>importance</th>\n",
       "    </tr>\n",
       "  </thead>\n",
       "  <tbody>\n",
       "    <tr>\n",
       "      <th>10</th>\n",
       "      <td>research</td>\n",
       "      <td>0.253414</td>\n",
       "    </tr>\n",
       "    <tr>\n",
       "      <th>24</th>\n",
       "      <td>City_New+York</td>\n",
       "      <td>0.196744</td>\n",
       "    </tr>\n",
       "    <tr>\n",
       "      <th>14</th>\n",
       "      <td>scientist</td>\n",
       "      <td>0.072096</td>\n",
       "    </tr>\n",
       "    <tr>\n",
       "      <th>16</th>\n",
       "      <td>City_Austin</td>\n",
       "      <td>0.068938</td>\n",
       "    </tr>\n",
       "    <tr>\n",
       "      <th>25</th>\n",
       "      <td>City_Philadelphia</td>\n",
       "      <td>0.054879</td>\n",
       "    </tr>\n",
       "    <tr>\n",
       "      <th>5</th>\n",
       "      <td>Assistant</td>\n",
       "      <td>0.039584</td>\n",
       "    </tr>\n",
       "    <tr>\n",
       "      <th>17</th>\n",
       "      <td>City_Chicago</td>\n",
       "      <td>0.036718</td>\n",
       "    </tr>\n",
       "    <tr>\n",
       "      <th>22</th>\n",
       "      <td>City_Los+Angeles</td>\n",
       "      <td>0.034733</td>\n",
       "    </tr>\n",
       "    <tr>\n",
       "      <th>29</th>\n",
       "      <td>City_San+Francisco</td>\n",
       "      <td>0.030920</td>\n",
       "    </tr>\n",
       "    <tr>\n",
       "      <th>12</th>\n",
       "      <td>machine</td>\n",
       "      <td>0.028872</td>\n",
       "    </tr>\n",
       "    <tr>\n",
       "      <th>8</th>\n",
       "      <td>engineer</td>\n",
       "      <td>0.023075</td>\n",
       "    </tr>\n",
       "    <tr>\n",
       "      <th>18</th>\n",
       "      <td>City_Dallas</td>\n",
       "      <td>0.022512</td>\n",
       "    </tr>\n",
       "    <tr>\n",
       "      <th>15</th>\n",
       "      <td>City_Atlanta</td>\n",
       "      <td>0.019129</td>\n",
       "    </tr>\n",
       "    <tr>\n",
       "      <th>20</th>\n",
       "      <td>City_Houston</td>\n",
       "      <td>0.018895</td>\n",
       "    </tr>\n",
       "    <tr>\n",
       "      <th>21</th>\n",
       "      <td>City_London</td>\n",
       "      <td>0.017509</td>\n",
       "    </tr>\n",
       "    <tr>\n",
       "      <th>28</th>\n",
       "      <td>City_Portland</td>\n",
       "      <td>0.014408</td>\n",
       "    </tr>\n",
       "    <tr>\n",
       "      <th>19</th>\n",
       "      <td>City_Denver</td>\n",
       "      <td>0.014204</td>\n",
       "    </tr>\n",
       "    <tr>\n",
       "      <th>26</th>\n",
       "      <td>City_Phoenix</td>\n",
       "      <td>0.013866</td>\n",
       "    </tr>\n",
       "    <tr>\n",
       "      <th>4</th>\n",
       "      <td>Manager</td>\n",
       "      <td>0.012212</td>\n",
       "    </tr>\n",
       "    <tr>\n",
       "      <th>6</th>\n",
       "      <td>Junior</td>\n",
       "      <td>0.011124</td>\n",
       "    </tr>\n",
       "    <tr>\n",
       "      <th>30</th>\n",
       "      <td>City_Seattle</td>\n",
       "      <td>0.005603</td>\n",
       "    </tr>\n",
       "    <tr>\n",
       "      <th>27</th>\n",
       "      <td>City_Pittsburgh</td>\n",
       "      <td>0.005433</td>\n",
       "    </tr>\n",
       "    <tr>\n",
       "      <th>23</th>\n",
       "      <td>City_Miami</td>\n",
       "      <td>0.005131</td>\n",
       "    </tr>\n",
       "    <tr>\n",
       "      <th>1</th>\n",
       "      <td>Analyst</td>\n",
       "      <td>0.000000</td>\n",
       "    </tr>\n",
       "    <tr>\n",
       "      <th>13</th>\n",
       "      <td>big</td>\n",
       "      <td>0.000000</td>\n",
       "    </tr>\n",
       "    <tr>\n",
       "      <th>11</th>\n",
       "      <td>remote</td>\n",
       "      <td>0.000000</td>\n",
       "    </tr>\n",
       "    <tr>\n",
       "      <th>9</th>\n",
       "      <td>mid</td>\n",
       "      <td>0.000000</td>\n",
       "    </tr>\n",
       "    <tr>\n",
       "      <th>7</th>\n",
       "      <td>contract</td>\n",
       "      <td>0.000000</td>\n",
       "    </tr>\n",
       "    <tr>\n",
       "      <th>3</th>\n",
       "      <td>Lead</td>\n",
       "      <td>0.000000</td>\n",
       "    </tr>\n",
       "    <tr>\n",
       "      <th>2</th>\n",
       "      <td>Principal</td>\n",
       "      <td>0.000000</td>\n",
       "    </tr>\n",
       "    <tr>\n",
       "      <th>0</th>\n",
       "      <td>Director</td>\n",
       "      <td>0.000000</td>\n",
       "    </tr>\n",
       "  </tbody>\n",
       "</table>\n",
       "</div>"
      ],
      "text/plain": [
       "               feature  importance\n",
       "10            research    0.253414\n",
       "24       City_New+York    0.196744\n",
       "14           scientist    0.072096\n",
       "16         City_Austin    0.068938\n",
       "25   City_Philadelphia    0.054879\n",
       "5            Assistant    0.039584\n",
       "17        City_Chicago    0.036718\n",
       "22    City_Los+Angeles    0.034733\n",
       "29  City_San+Francisco    0.030920\n",
       "12             machine    0.028872\n",
       "8             engineer    0.023075\n",
       "18         City_Dallas    0.022512\n",
       "15        City_Atlanta    0.019129\n",
       "20        City_Houston    0.018895\n",
       "21         City_London    0.017509\n",
       "28       City_Portland    0.014408\n",
       "19         City_Denver    0.014204\n",
       "26        City_Phoenix    0.013866\n",
       "4              Manager    0.012212\n",
       "6               Junior    0.011124\n",
       "30        City_Seattle    0.005603\n",
       "27     City_Pittsburgh    0.005433\n",
       "23          City_Miami    0.005131\n",
       "1              Analyst    0.000000\n",
       "13                 big    0.000000\n",
       "11              remote    0.000000\n",
       "9                  mid    0.000000\n",
       "7             contract    0.000000\n",
       "3                 Lead    0.000000\n",
       "2            Principal    0.000000\n",
       "0             Director    0.000000"
      ]
     },
     "execution_count": 38,
     "metadata": {},
     "output_type": "execute_result"
    }
   ],
   "source": [
    "produce_model(X, y, DecisionTreeClassifier)"
   ]
  },
  {
   "cell_type": "markdown",
   "metadata": {},
   "source": [
    "#### LogisticRegressionCV fit a range of l1 penalty values"
   ]
  },
  {
   "cell_type": "code",
   "execution_count": 39,
   "metadata": {},
   "outputs": [],
   "source": [
    "from sklearn.metrics import classification_report, confusion_matrix, accuracy_score, roc_curve, roc_auc_score\n",
    "from sklearn.linear_model import LogisticRegressionCV"
   ]
  },
  {
   "cell_type": "code",
   "execution_count": 40,
   "metadata": {},
   "outputs": [
    {
     "name": "stdout",
     "output_type": "stream",
     "text": [
      "Regularization Strenghts:  [1.e-07 1.e-06 1.e-05 1.e-04 1.e-03 1.e-02 1.e-01 1.e+00 1.e+01 1.e+02\n",
      " 1.e+03 1.e+04 1.e+05 1.e+06 1.e+07]\n"
     ]
    }
   ],
   "source": [
    "#Instantiate Model\n",
    "model_l1 = LogisticRegressionCV(Cs=np.logspace(-7,7,15),penalty = 'l1',solver='liblinear',cv=5,random_state=1) \n",
    "#Fit Model\n",
    "model_l1.fit(X_train,y_train)\n",
    "# best regularization strenghts in one-vs-one fits\n",
    "print('Regularization Strenghts: ',model_l1.Cs_)"
   ]
  },
  {
   "cell_type": "code",
   "execution_count": 41,
   "metadata": {},
   "outputs": [
    {
     "name": "stdout",
     "output_type": "stream",
     "text": [
      "Accuracy of l1:  0.7833333333333333\n"
     ]
    }
   ],
   "source": [
    "# test score\n",
    "yhat_test_l1 = model_l1.predict(X_test)\n",
    "print('Accuracy of l1: ', accuracy_score(y_test,yhat_test_l1))"
   ]
  },
  {
   "cell_type": "code",
   "execution_count": 45,
   "metadata": {},
   "outputs": [
    {
     "name": "stdout",
     "output_type": "stream",
     "text": [
      "             precision    recall  f1-score   support\n",
      "\n",
      "          0       0.70      0.88      0.78        26\n",
      "          1       0.89      0.71      0.79        34\n",
      "\n",
      "avg / total       0.81      0.78      0.78        60\n",
      "\n"
     ]
    }
   ],
   "source": [
    "print(metrics.classification_report(y_test, yhat_test_l1))"
   ]
  },
  {
   "cell_type": "markdown",
   "metadata": {},
   "source": [
    "#### LogisticRegressionCV fit a range of l2 penalty values"
   ]
  },
  {
   "cell_type": "code",
   "execution_count": 46,
   "metadata": {},
   "outputs": [
    {
     "name": "stdout",
     "output_type": "stream",
     "text": [
      "Regularization Strenghts:  [1.e-07 1.e-06 1.e-05 1.e-04 1.e-03 1.e-02 1.e-01 1.e+00 1.e+01 1.e+02\n",
      " 1.e+03 1.e+04 1.e+05 1.e+06 1.e+07]\n"
     ]
    }
   ],
   "source": [
    "#Instantiate the model\n",
    "model_l2 = LogisticRegressionCV(Cs=np.logspace(-7,7,15), penalty = 'l2',solver='liblinear',cv=5) \n",
    "#Fit the Model\n",
    "model_l2.fit(X_train,y_train)\n",
    "# best regularization strenghts in one-vs-one fits\n",
    "print('Regularization Strenghts: ',model_l2.Cs_)"
   ]
  },
  {
   "cell_type": "code",
   "execution_count": 47,
   "metadata": {},
   "outputs": [
    {
     "name": "stdout",
     "output_type": "stream",
     "text": [
      "Accuracy of l2:  0.7166666666666667\n"
     ]
    }
   ],
   "source": [
    "# test score\n",
    "yhat_test_l2 = model_l2.predict(X_test)\n",
    "print('Accuracy of l2: ', accuracy_score(y_test,yhat_test_l2))"
   ]
  },
  {
   "cell_type": "code",
   "execution_count": 48,
   "metadata": {},
   "outputs": [
    {
     "name": "stdout",
     "output_type": "stream",
     "text": [
      "             precision    recall  f1-score   support\n",
      "\n",
      "          0       0.67      0.69      0.68        26\n",
      "          1       0.76      0.74      0.75        34\n",
      "\n",
      "avg / total       0.72      0.72      0.72        60\n",
      "\n"
     ]
    }
   ],
   "source": [
    "print(metrics.classification_report(y_test, yhat_test_l2))"
   ]
  },
  {
   "cell_type": "code",
   "execution_count": 49,
   "metadata": {},
   "outputs": [
    {
     "data": {
      "text/plain": [
       "0.7166666666666667"
      ]
     },
     "execution_count": 49,
     "metadata": {},
     "output_type": "execute_result"
    }
   ],
   "source": [
    "# Higher scores arise when fitting one-versus rest\n",
    "y_train_1 = (y_train==1)*1\n",
    "y_test_1 = (y_test==1)*1\n",
    "\n",
    "model_test = LogisticRegression(C=model_l2.C_[0],penalty='l2') \n",
    "model_test.fit(X_train,y_train_1)\n",
    "model_test.score(X_test,y_test_1)"
   ]
  },
  {
   "cell_type": "markdown",
   "metadata": {},
   "source": [
    "### Model evaluation:"
   ]
  },
  {
   "cell_type": "code",
   "execution_count": 63,
   "metadata": {},
   "outputs": [
    {
     "data": {
      "text/html": [
       "<div>\n",
       "<style scoped>\n",
       "    .dataframe tbody tr th:only-of-type {\n",
       "        vertical-align: middle;\n",
       "    }\n",
       "\n",
       "    .dataframe tbody tr th {\n",
       "        vertical-align: top;\n",
       "    }\n",
       "\n",
       "    .dataframe thead th {\n",
       "        text-align: right;\n",
       "    }\n",
       "</style>\n",
       "<table border=\"1\" class=\"dataframe\">\n",
       "  <thead>\n",
       "    <tr style=\"text-align: right;\">\n",
       "      <th></th>\n",
       "      <th>class_0_pp</th>\n",
       "      <th>class_1_pp</th>\n",
       "      <th>pred_class_thresh10</th>\n",
       "    </tr>\n",
       "  </thead>\n",
       "  <tbody>\n",
       "    <tr>\n",
       "      <th>0</th>\n",
       "      <td>0.638921</td>\n",
       "      <td>0.361079</td>\n",
       "      <td>0</td>\n",
       "    </tr>\n",
       "    <tr>\n",
       "      <th>1</th>\n",
       "      <td>0.284515</td>\n",
       "      <td>0.715485</td>\n",
       "      <td>0</td>\n",
       "    </tr>\n",
       "    <tr>\n",
       "      <th>2</th>\n",
       "      <td>0.242342</td>\n",
       "      <td>0.757658</td>\n",
       "      <td>0</td>\n",
       "    </tr>\n",
       "    <tr>\n",
       "      <th>3</th>\n",
       "      <td>0.510679</td>\n",
       "      <td>0.489321</td>\n",
       "      <td>0</td>\n",
       "    </tr>\n",
       "    <tr>\n",
       "      <th>4</th>\n",
       "      <td>0.510679</td>\n",
       "      <td>0.489321</td>\n",
       "      <td>0</td>\n",
       "    </tr>\n",
       "    <tr>\n",
       "      <th>5</th>\n",
       "      <td>0.854501</td>\n",
       "      <td>0.145499</td>\n",
       "      <td>0</td>\n",
       "    </tr>\n",
       "    <tr>\n",
       "      <th>6</th>\n",
       "      <td>0.701227</td>\n",
       "      <td>0.298773</td>\n",
       "      <td>0</td>\n",
       "    </tr>\n",
       "    <tr>\n",
       "      <th>7</th>\n",
       "      <td>0.029977</td>\n",
       "      <td>0.970023</td>\n",
       "      <td>1</td>\n",
       "    </tr>\n",
       "    <tr>\n",
       "      <th>8</th>\n",
       "      <td>0.242342</td>\n",
       "      <td>0.757658</td>\n",
       "      <td>0</td>\n",
       "    </tr>\n",
       "    <tr>\n",
       "      <th>9</th>\n",
       "      <td>0.850438</td>\n",
       "      <td>0.149562</td>\n",
       "      <td>0</td>\n",
       "    </tr>\n",
       "  </tbody>\n",
       "</table>\n",
       "</div>"
      ],
      "text/plain": [
       "   class_0_pp  class_1_pp  pred_class_thresh10\n",
       "0    0.638921    0.361079                    0\n",
       "1    0.284515    0.715485                    0\n",
       "2    0.242342    0.757658                    0\n",
       "3    0.510679    0.489321                    0\n",
       "4    0.510679    0.489321                    0\n",
       "5    0.854501    0.145499                    0\n",
       "6    0.701227    0.298773                    0\n",
       "7    0.029977    0.970023                    1\n",
       "8    0.242342    0.757658                    0\n",
       "9    0.850438    0.149562                    0"
      ]
     },
     "execution_count": 63,
     "metadata": {},
     "output_type": "execute_result"
    }
   ],
   "source": [
    "# Adjust model so that false positive rate is lower on the Logistic RegressionCV l2 model\n",
    "# Get the predicted probability vector and explicitly name the columns:\n",
    "Y_pp = pd.DataFrame(model_l1.predict_proba(X_test), columns=['class_0_pp','class_1_pp'])\n",
    "Y_pp['pred_class_thresh10'] = [1 if x >= 0.90 else 0 for x in Y_pp.class_1_pp.values]\n",
    "Y_pp.head(10)"
   ]
  },
  {
   "cell_type": "code",
   "execution_count": 65,
   "metadata": {},
   "outputs": [
    {
     "data": {
      "text/html": [
       "<div>\n",
       "<style scoped>\n",
       "    .dataframe tbody tr th:only-of-type {\n",
       "        vertical-align: middle;\n",
       "    }\n",
       "\n",
       "    .dataframe tbody tr th {\n",
       "        vertical-align: top;\n",
       "    }\n",
       "\n",
       "    .dataframe thead th {\n",
       "        text-align: right;\n",
       "    }\n",
       "</style>\n",
       "<table border=\"1\" class=\"dataframe\">\n",
       "  <thead>\n",
       "    <tr style=\"text-align: right;\">\n",
       "      <th></th>\n",
       "      <th>predicted_high</th>\n",
       "      <th>predicted_low</th>\n",
       "    </tr>\n",
       "  </thead>\n",
       "  <tbody>\n",
       "    <tr>\n",
       "      <th>high_sal</th>\n",
       "      <td>6</td>\n",
       "      <td>28</td>\n",
       "    </tr>\n",
       "    <tr>\n",
       "      <th>low_sal</th>\n",
       "      <td>0</td>\n",
       "      <td>26</td>\n",
       "    </tr>\n",
       "  </tbody>\n",
       "</table>\n",
       "</div>"
      ],
      "text/plain": [
       "          predicted_high  predicted_low\n",
       "high_sal               6             28\n",
       "low_sal                0             26"
      ]
     },
     "execution_count": 65,
     "metadata": {},
     "output_type": "execute_result"
    }
   ],
   "source": [
    "conmat = np.array(confusion_matrix(y_test, Y_pp.pred_class_thresh10.values, labels=[1,0]))\n",
    "\n",
    "confusion = pd.DataFrame(conmat, index=['high_sal', 'low_sal'],\n",
    "                         columns=['predicted_high','predicted_low'])\n",
    "confusion"
   ]
  },
  {
   "cell_type": "code",
   "execution_count": 66,
   "metadata": {},
   "outputs": [
    {
     "name": "stdout",
     "output_type": "stream",
     "text": [
      "             precision    recall  f1-score   support\n",
      "\n",
      "          0       0.48      1.00      0.65        26\n",
      "          1       1.00      0.18      0.30        34\n",
      "\n",
      "avg / total       0.78      0.53      0.45        60\n",
      "\n"
     ]
    }
   ],
   "source": [
    "print(metrics.classification_report(y_test, Y_pp.pred_class_thresh10))"
   ]
  },
  {
   "cell_type": "code",
   "execution_count": 67,
   "metadata": {},
   "outputs": [
    {
     "name": "stderr",
     "output_type": "stream",
     "text": [
      "C:\\Users\\panch\\Anaconda3\\lib\\site-packages\\sklearn\\utils\\validation.py:578: DataConversionWarning: A column-vector y was passed when a 1d array was expected. Please change the shape of y to (n_samples, ), for example using ravel().\n",
      "  y = column_or_1d(y, warn=True)\n",
      "C:\\Users\\panch\\Anaconda3\\lib\\site-packages\\sklearn\\utils\\validation.py:578: DataConversionWarning: A column-vector y was passed when a 1d array was expected. Please change the shape of y to (n_samples, ), for example using ravel().\n",
      "  y = column_or_1d(y, warn=True)\n",
      "C:\\Users\\panch\\Anaconda3\\lib\\site-packages\\sklearn\\utils\\validation.py:578: DataConversionWarning: A column-vector y was passed when a 1d array was expected. Please change the shape of y to (n_samples, ), for example using ravel().\n",
      "  y = column_or_1d(y, warn=True)\n",
      "C:\\Users\\panch\\Anaconda3\\lib\\site-packages\\sklearn\\utils\\validation.py:578: DataConversionWarning: A column-vector y was passed when a 1d array was expected. Please change the shape of y to (n_samples, ), for example using ravel().\n",
      "  y = column_or_1d(y, warn=True)\n",
      "C:\\Users\\panch\\Anaconda3\\lib\\site-packages\\sklearn\\utils\\validation.py:578: DataConversionWarning: A column-vector y was passed when a 1d array was expected. Please change the shape of y to (n_samples, ), for example using ravel().\n",
      "  y = column_or_1d(y, warn=True)\n",
      "C:\\Users\\panch\\Anaconda3\\lib\\site-packages\\sklearn\\utils\\validation.py:578: DataConversionWarning: A column-vector y was passed when a 1d array was expected. Please change the shape of y to (n_samples, ), for example using ravel().\n",
      "  y = column_or_1d(y, warn=True)\n",
      "C:\\Users\\panch\\Anaconda3\\lib\\site-packages\\sklearn\\utils\\validation.py:578: DataConversionWarning: A column-vector y was passed when a 1d array was expected. Please change the shape of y to (n_samples, ), for example using ravel().\n",
      "  y = column_or_1d(y, warn=True)\n",
      "C:\\Users\\panch\\Anaconda3\\lib\\site-packages\\sklearn\\utils\\validation.py:578: DataConversionWarning: A column-vector y was passed when a 1d array was expected. Please change the shape of y to (n_samples, ), for example using ravel().\n",
      "  y = column_or_1d(y, warn=True)\n",
      "C:\\Users\\panch\\Anaconda3\\lib\\site-packages\\sklearn\\utils\\validation.py:578: DataConversionWarning: A column-vector y was passed when a 1d array was expected. Please change the shape of y to (n_samples, ), for example using ravel().\n",
      "  y = column_or_1d(y, warn=True)\n",
      "C:\\Users\\panch\\Anaconda3\\lib\\site-packages\\sklearn\\utils\\validation.py:578: DataConversionWarning: A column-vector y was passed when a 1d array was expected. Please change the shape of y to (n_samples, ), for example using ravel().\n",
      "  y = column_or_1d(y, warn=True)\n"
     ]
    },
    {
     "name": "stdout",
     "output_type": "stream",
     "text": [
      "0.64\n"
     ]
    }
   ],
   "source": [
    "#Accuracy using Cross_Val\n",
    "from sklearn.model_selection import cross_val_score\n",
    "accs = cross_val_score(model_l1, X, y, cv=10)\n",
    "print(np.mean(accs))"
   ]
  },
  {
   "cell_type": "code",
   "execution_count": 68,
   "metadata": {},
   "outputs": [],
   "source": [
    "#ROC AUC Curve\n",
    "from sklearn.metrics import roc_curve, auc"
   ]
  },
  {
   "cell_type": "code",
   "execution_count": 69,
   "metadata": {},
   "outputs": [
    {
     "data": {
      "image/png": "[encoded data removed]",
      "text/plain": [
       "<Figure size 432x432 with 1 Axes>"
      ]
     },
     "metadata": {},
     "output_type": "display_data"
    }
   ],
   "source": [
    "# For class 1, find the area under the curve\n",
    "fpr, tpr, threshold = roc_curve(y_test, Y_pp.class_1_pp)\n",
    "roc_auc = auc(fpr, tpr)\n",
    "\n",
    "# Plot of a ROC curve for class 1 (High_Salary)\n",
    "plt.figure(figsize=[6,6])\n",
    "plt.plot(fpr, tpr, label='ROC curve (area = %0.2f)' % roc_auc, linewidth=4)\n",
    "plt.plot([0, 1], [0, 1], 'k--', linewidth=4)\n",
    "plt.xlim([-0.05, 1.0])\n",
    "plt.ylim([-0.05, 1.05])\n",
    "plt.xlabel('False Positive Rate', fontsize=18)\n",
    "plt.ylabel('True Positive Rate', fontsize=18)\n",
    "plt.title('Receiver operating characteristic for High Salary', fontsize=18)\n",
    "plt.legend(loc=\"lower right\")\n",
    "plt.show()"
   ]
  },
  {
   "cell_type": "markdown",
   "metadata": {},
   "source": [
    "#### ROC Curve summary\n",
    "The area under my curve is 0.81, which indicates that there is a higher probability of belonging to the right class. "
   ]
  },
  {
   "cell_type": "code",
   "execution_count": 70,
   "metadata": {},
   "outputs": [
    {
     "name": "stdout",
     "output_type": "stream",
     "text": [
      "Average precision-recall score: 0.84\n"
     ]
    },
    {
     "data": {
      "text/plain": [
       "Text(0.5,1,'2-class Precision-Recall curve: AP=0.84')"
      ]
     },
     "execution_count": 70,
     "metadata": {},
     "output_type": "execute_result"
    },
    {
     "data": {
      "image/png": "[encoded data removed]",
      "text/plain": [
       "<Figure size 432x288 with 1 Axes>"
      ]
     },
     "metadata": {},
     "output_type": "display_data"
    }
   ],
   "source": [
    "from sklearn.metrics import average_precision_score\n",
    "average_precision = average_precision_score(y_test, Y_pp.class_1_pp)\n",
    "\n",
    "print('Average precision-recall score: {0:0.2f}'.format(\n",
    "      average_precision))\n",
    "\n",
    "from sklearn.metrics import precision_recall_curve\n",
    "\n",
    "precision, recall, _ = precision_recall_curve(y_test, Y_pp.class_1_pp)\n",
    "\n",
    "plt.step(recall, precision, color='b', alpha=0.2,\n",
    "         where='post')\n",
    "plt.fill_between(recall, precision, step='post', alpha=0.2,\n",
    "                 color='b')\n",
    "\n",
    "plt.xlabel('Recall')\n",
    "plt.ylabel('Precision')\n",
    "plt.ylim([0.0, 1.05])\n",
    "plt.xlim([0.0, 1.0])\n",
    "plt.title('2-class Precision-Recall curve: AP={0:0.2f}'.format(\n",
    "          average_precision))\n"
   ]
  },
  {
   "cell_type": "markdown",
   "metadata": {},
   "source": [
    "### Summarize your results in an executive summary written for a non-technical audience.\n",
    "   \n",
    "- Writeups should be at least 500-1000 words, defining any technical terms, explaining your approach, as well as any risks and limitations."
   ]
  },
  {
   "cell_type": "markdown",
   "metadata": {},
   "source": [
    "### BONUS\n",
    "\n",
    "Convert your executive summary into a public blog post of at least 500 words, in which you document your approach in a tutorial for other aspiring data scientists. Link to this in your notebook."
   ]
  },
  {
   "cell_type": "markdown",
   "metadata": {},
   "source": [
    "## YOUR LINK HERE IN MARKDOWN FORMAT \n",
    "http://myntrose.blogspot.com/2018/08/web-scraping-job-posts.html"
   ]
  },
  {
   "cell_type": "code",
   "execution_count": null,
   "metadata": {},
   "outputs": [],
   "source": []
  }
 ],
 "metadata": {
  "kernelspec": {
   "display_name": "Python 3",
   "language": "python",
   "name": "python3"
  },
  "language_info": {
   "codemirror_mode": {
    "name": "ipython",
    "version": 3
   },
   "file_extension": ".py",
   "mimetype": "text/x-python",
   "name": "python",
   "nbconvert_exporter": "python",
   "pygments_lexer": "ipython3",
   "version": "3.7.0"
  },
  "toc": {
   "nav_menu": {},
   "number_sections": false,
   "sideBar": true,
   "skip_h1_title": true,
   "title_cell": "Table of Contents",
   "title_sidebar": "Contents",
   "toc_cell": false,
   "toc_position": {},
   "toc_section_display": "block",
   "toc_window_display": false
  }
 },
 "nbformat": 4,
 "nbformat_minor": 1
}
